{
 "cells": [
  {
   "cell_type": "code",
   "execution_count": 2,
   "metadata": {},
   "outputs": [
    {
     "data": {
      "text/html": [
       "\n",
       "    <div class=\"bk-root\">\n",
       "        <a href=\"https://bokeh.pydata.org\" target=\"_blank\" class=\"bk-logo bk-logo-small bk-logo-notebook\"></a>\n",
       "        <span id=\"5e250332-b2ae-4696-ad65-b0b939a0bdf2\">Loading BokehJS ...</span>\n",
       "    </div>"
      ]
     },
     "metadata": {},
     "output_type": "display_data"
    },
    {
     "data": {
      "application/javascript": [
       "\n",
       "(function(root) {\n",
       "  function now() {\n",
       "    return new Date();\n",
       "  }\n",
       "\n",
       "  var force = true;\n",
       "\n",
       "  if (typeof (root._bokeh_onload_callbacks) === \"undefined\" || force === true) {\n",
       "    root._bokeh_onload_callbacks = [];\n",
       "    root._bokeh_is_loading = undefined;\n",
       "  }\n",
       "\n",
       "  var JS_MIME_TYPE = 'application/javascript';\n",
       "  var HTML_MIME_TYPE = 'text/html';\n",
       "  var EXEC_MIME_TYPE = 'application/vnd.bokehjs_exec.v0+json';\n",
       "  var CLASS_NAME = 'output_bokeh rendered_html';\n",
       "\n",
       "  /**\n",
       "   * Render data to the DOM node\n",
       "   */\n",
       "  function render(props, node) {\n",
       "    var script = document.createElement(\"script\");\n",
       "    node.appendChild(script);\n",
       "  }\n",
       "\n",
       "  /**\n",
       "   * Handle when an output is cleared or removed\n",
       "   */\n",
       "  function handleClearOutput(event, handle) {\n",
       "    var cell = handle.cell;\n",
       "\n",
       "    var id = cell.output_area._bokeh_element_id;\n",
       "    var server_id = cell.output_area._bokeh_server_id;\n",
       "    // Clean up Bokeh references\n",
       "    if (id != null && id in Bokeh.index) {\n",
       "      Bokeh.index[id].model.document.clear();\n",
       "      delete Bokeh.index[id];\n",
       "    }\n",
       "\n",
       "    if (server_id !== undefined) {\n",
       "      // Clean up Bokeh references\n",
       "      var cmd = \"from bokeh.io.state import curstate; print(curstate().uuid_to_server['\" + server_id + \"'].get_sessions()[0].document.roots[0]._id)\";\n",
       "      cell.notebook.kernel.execute(cmd, {\n",
       "        iopub: {\n",
       "          output: function(msg) {\n",
       "            var id = msg.content.text.trim();\n",
       "            if (id in Bokeh.index) {\n",
       "              Bokeh.index[id].model.document.clear();\n",
       "              delete Bokeh.index[id];\n",
       "            }\n",
       "          }\n",
       "        }\n",
       "      });\n",
       "      // Destroy server and session\n",
       "      var cmd = \"import bokeh.io.notebook as ion; ion.destroy_server('\" + server_id + \"')\";\n",
       "      cell.notebook.kernel.execute(cmd);\n",
       "    }\n",
       "  }\n",
       "\n",
       "  /**\n",
       "   * Handle when a new output is added\n",
       "   */\n",
       "  function handleAddOutput(event, handle) {\n",
       "    var output_area = handle.output_area;\n",
       "    var output = handle.output;\n",
       "\n",
       "    // limit handleAddOutput to display_data with EXEC_MIME_TYPE content only\n",
       "    if ((output.output_type != \"display_data\") || (!output.data.hasOwnProperty(EXEC_MIME_TYPE))) {\n",
       "      return\n",
       "    }\n",
       "\n",
       "    var toinsert = output_area.element.find(\".\" + CLASS_NAME.split(' ')[0]);\n",
       "\n",
       "    if (output.metadata[EXEC_MIME_TYPE][\"id\"] !== undefined) {\n",
       "      toinsert[toinsert.length - 1].firstChild.textContent = output.data[JS_MIME_TYPE];\n",
       "      // store reference to embed id on output_area\n",
       "      output_area._bokeh_element_id = output.metadata[EXEC_MIME_TYPE][\"id\"];\n",
       "    }\n",
       "    if (output.metadata[EXEC_MIME_TYPE][\"server_id\"] !== undefined) {\n",
       "      var bk_div = document.createElement(\"div\");\n",
       "      bk_div.innerHTML = output.data[HTML_MIME_TYPE];\n",
       "      var script_attrs = bk_div.children[0].attributes;\n",
       "      for (var i = 0; i < script_attrs.length; i++) {\n",
       "        toinsert[toinsert.length - 1].firstChild.setAttribute(script_attrs[i].name, script_attrs[i].value);\n",
       "      }\n",
       "      // store reference to server id on output_area\n",
       "      output_area._bokeh_server_id = output.metadata[EXEC_MIME_TYPE][\"server_id\"];\n",
       "    }\n",
       "  }\n",
       "\n",
       "  function register_renderer(events, OutputArea) {\n",
       "\n",
       "    function append_mime(data, metadata, element) {\n",
       "      // create a DOM node to render to\n",
       "      var toinsert = this.create_output_subarea(\n",
       "        metadata,\n",
       "        CLASS_NAME,\n",
       "        EXEC_MIME_TYPE\n",
       "      );\n",
       "      this.keyboard_manager.register_events(toinsert);\n",
       "      // Render to node\n",
       "      var props = {data: data, metadata: metadata[EXEC_MIME_TYPE]};\n",
       "      render(props, toinsert[toinsert.length - 1]);\n",
       "      element.append(toinsert);\n",
       "      return toinsert\n",
       "    }\n",
       "\n",
       "    /* Handle when an output is cleared or removed */\n",
       "    events.on('clear_output.CodeCell', handleClearOutput);\n",
       "    events.on('delete.Cell', handleClearOutput);\n",
       "\n",
       "    /* Handle when a new output is added */\n",
       "    events.on('output_added.OutputArea', handleAddOutput);\n",
       "\n",
       "    /**\n",
       "     * Register the mime type and append_mime function with output_area\n",
       "     */\n",
       "    OutputArea.prototype.register_mime_type(EXEC_MIME_TYPE, append_mime, {\n",
       "      /* Is output safe? */\n",
       "      safe: true,\n",
       "      /* Index of renderer in `output_area.display_order` */\n",
       "      index: 0\n",
       "    });\n",
       "  }\n",
       "\n",
       "  // register the mime type if in Jupyter Notebook environment and previously unregistered\n",
       "  if (root.Jupyter !== undefined) {\n",
       "    var events = require('base/js/events');\n",
       "    var OutputArea = require('notebook/js/outputarea').OutputArea;\n",
       "\n",
       "    if (OutputArea.prototype.mime_types().indexOf(EXEC_MIME_TYPE) == -1) {\n",
       "      register_renderer(events, OutputArea);\n",
       "    }\n",
       "  }\n",
       "\n",
       "  \n",
       "  if (typeof (root._bokeh_timeout) === \"undefined\" || force === true) {\n",
       "    root._bokeh_timeout = Date.now() + 5000;\n",
       "    root._bokeh_failed_load = false;\n",
       "  }\n",
       "\n",
       "  var NB_LOAD_WARNING = {'data': {'text/html':\n",
       "     \"<div style='background-color: #fdd'>\\n\"+\n",
       "     \"<p>\\n\"+\n",
       "     \"BokehJS does not appear to have successfully loaded. If loading BokehJS from CDN, this \\n\"+\n",
       "     \"may be due to a slow or bad network connection. Possible fixes:\\n\"+\n",
       "     \"</p>\\n\"+\n",
       "     \"<ul>\\n\"+\n",
       "     \"<li>re-rerun `output_notebook()` to attempt to load from CDN again, or</li>\\n\"+\n",
       "     \"<li>use INLINE resources instead, as so:</li>\\n\"+\n",
       "     \"</ul>\\n\"+\n",
       "     \"<code>\\n\"+\n",
       "     \"from bokeh.resources import INLINE\\n\"+\n",
       "     \"output_notebook(resources=INLINE)\\n\"+\n",
       "     \"</code>\\n\"+\n",
       "     \"</div>\"}};\n",
       "\n",
       "  function display_loaded() {\n",
       "    var el = document.getElementById(\"5e250332-b2ae-4696-ad65-b0b939a0bdf2\");\n",
       "    if (el != null) {\n",
       "      el.textContent = \"BokehJS is loading...\";\n",
       "    }\n",
       "    if (root.Bokeh !== undefined) {\n",
       "      if (el != null) {\n",
       "        el.textContent = \"BokehJS \" + root.Bokeh.version + \" successfully loaded.\";\n",
       "      }\n",
       "    } else if (Date.now() < root._bokeh_timeout) {\n",
       "      setTimeout(display_loaded, 100)\n",
       "    }\n",
       "  }\n",
       "\n",
       "\n",
       "  function run_callbacks() {\n",
       "    try {\n",
       "      root._bokeh_onload_callbacks.forEach(function(callback) { callback() });\n",
       "    }\n",
       "    finally {\n",
       "      delete root._bokeh_onload_callbacks\n",
       "    }\n",
       "    console.info(\"Bokeh: all callbacks have finished\");\n",
       "  }\n",
       "\n",
       "  function load_libs(js_urls, callback) {\n",
       "    root._bokeh_onload_callbacks.push(callback);\n",
       "    if (root._bokeh_is_loading > 0) {\n",
       "      console.log(\"Bokeh: BokehJS is being loaded, scheduling callback at\", now());\n",
       "      return null;\n",
       "    }\n",
       "    if (js_urls == null || js_urls.length === 0) {\n",
       "      run_callbacks();\n",
       "      return null;\n",
       "    }\n",
       "    console.log(\"Bokeh: BokehJS not loaded, scheduling load and callback at\", now());\n",
       "    root._bokeh_is_loading = js_urls.length;\n",
       "    for (var i = 0; i < js_urls.length; i++) {\n",
       "      var url = js_urls[i];\n",
       "      var s = document.createElement('script');\n",
       "      s.src = url;\n",
       "      s.async = false;\n",
       "      s.onreadystatechange = s.onload = function() {\n",
       "        root._bokeh_is_loading--;\n",
       "        if (root._bokeh_is_loading === 0) {\n",
       "          console.log(\"Bokeh: all BokehJS libraries loaded\");\n",
       "          run_callbacks()\n",
       "        }\n",
       "      };\n",
       "      s.onerror = function() {\n",
       "        console.warn(\"failed to load library \" + url);\n",
       "      };\n",
       "      console.log(\"Bokeh: injecting script tag for BokehJS library: \", url);\n",
       "      document.getElementsByTagName(\"head\")[0].appendChild(s);\n",
       "    }\n",
       "  };var element = document.getElementById(\"5e250332-b2ae-4696-ad65-b0b939a0bdf2\");\n",
       "  if (element == null) {\n",
       "    console.log(\"Bokeh: ERROR: autoload.js configured with elementid '5e250332-b2ae-4696-ad65-b0b939a0bdf2' but no matching script tag was found. \")\n",
       "    return false;\n",
       "  }\n",
       "\n",
       "  var js_urls = [\"https://cdn.pydata.org/bokeh/release/bokeh-0.13.0.min.js\", \"https://cdn.pydata.org/bokeh/release/bokeh-widgets-0.13.0.min.js\", \"https://cdn.pydata.org/bokeh/release/bokeh-tables-0.13.0.min.js\", \"https://cdn.pydata.org/bokeh/release/bokeh-gl-0.13.0.min.js\"];\n",
       "\n",
       "  var inline_js = [\n",
       "    function(Bokeh) {\n",
       "      Bokeh.set_log_level(\"info\");\n",
       "    },\n",
       "    \n",
       "    function(Bokeh) {\n",
       "      \n",
       "    },\n",
       "    function(Bokeh) {\n",
       "      console.log(\"Bokeh: injecting CSS: https://cdn.pydata.org/bokeh/release/bokeh-0.13.0.min.css\");\n",
       "      Bokeh.embed.inject_css(\"https://cdn.pydata.org/bokeh/release/bokeh-0.13.0.min.css\");\n",
       "      console.log(\"Bokeh: injecting CSS: https://cdn.pydata.org/bokeh/release/bokeh-widgets-0.13.0.min.css\");\n",
       "      Bokeh.embed.inject_css(\"https://cdn.pydata.org/bokeh/release/bokeh-widgets-0.13.0.min.css\");\n",
       "      console.log(\"Bokeh: injecting CSS: https://cdn.pydata.org/bokeh/release/bokeh-tables-0.13.0.min.css\");\n",
       "      Bokeh.embed.inject_css(\"https://cdn.pydata.org/bokeh/release/bokeh-tables-0.13.0.min.css\");\n",
       "    }\n",
       "  ];\n",
       "\n",
       "  function run_inline_js() {\n",
       "    \n",
       "    if ((root.Bokeh !== undefined) || (force === true)) {\n",
       "      for (var i = 0; i < inline_js.length; i++) {\n",
       "        inline_js[i].call(root, root.Bokeh);\n",
       "      }if (force === true) {\n",
       "        display_loaded();\n",
       "      }} else if (Date.now() < root._bokeh_timeout) {\n",
       "      setTimeout(run_inline_js, 100);\n",
       "    } else if (!root._bokeh_failed_load) {\n",
       "      console.log(\"Bokeh: BokehJS failed to load within specified timeout.\");\n",
       "      root._bokeh_failed_load = true;\n",
       "    } else if (force !== true) {\n",
       "      var cell = $(document.getElementById(\"5e250332-b2ae-4696-ad65-b0b939a0bdf2\")).parents('.cell').data().cell;\n",
       "      cell.output_area.append_execute_result(NB_LOAD_WARNING)\n",
       "    }\n",
       "\n",
       "  }\n",
       "\n",
       "  if (root._bokeh_is_loading === 0) {\n",
       "    console.log(\"Bokeh: BokehJS loaded, going straight to plotting\");\n",
       "    run_inline_js();\n",
       "  } else {\n",
       "    load_libs(js_urls, function() {\n",
       "      console.log(\"Bokeh: BokehJS plotting callback run at\", now());\n",
       "      run_inline_js();\n",
       "    });\n",
       "  }\n",
       "}(window));"
      ],
      "application/vnd.bokehjs_load.v0+json": "\n(function(root) {\n  function now() {\n    return new Date();\n  }\n\n  var force = true;\n\n  if (typeof (root._bokeh_onload_callbacks) === \"undefined\" || force === true) {\n    root._bokeh_onload_callbacks = [];\n    root._bokeh_is_loading = undefined;\n  }\n\n  \n\n  \n  if (typeof (root._bokeh_timeout) === \"undefined\" || force === true) {\n    root._bokeh_timeout = Date.now() + 5000;\n    root._bokeh_failed_load = false;\n  }\n\n  var NB_LOAD_WARNING = {'data': {'text/html':\n     \"<div style='background-color: #fdd'>\\n\"+\n     \"<p>\\n\"+\n     \"BokehJS does not appear to have successfully loaded. If loading BokehJS from CDN, this \\n\"+\n     \"may be due to a slow or bad network connection. Possible fixes:\\n\"+\n     \"</p>\\n\"+\n     \"<ul>\\n\"+\n     \"<li>re-rerun `output_notebook()` to attempt to load from CDN again, or</li>\\n\"+\n     \"<li>use INLINE resources instead, as so:</li>\\n\"+\n     \"</ul>\\n\"+\n     \"<code>\\n\"+\n     \"from bokeh.resources import INLINE\\n\"+\n     \"output_notebook(resources=INLINE)\\n\"+\n     \"</code>\\n\"+\n     \"</div>\"}};\n\n  function display_loaded() {\n    var el = document.getElementById(\"5e250332-b2ae-4696-ad65-b0b939a0bdf2\");\n    if (el != null) {\n      el.textContent = \"BokehJS is loading...\";\n    }\n    if (root.Bokeh !== undefined) {\n      if (el != null) {\n        el.textContent = \"BokehJS \" + root.Bokeh.version + \" successfully loaded.\";\n      }\n    } else if (Date.now() < root._bokeh_timeout) {\n      setTimeout(display_loaded, 100)\n    }\n  }\n\n\n  function run_callbacks() {\n    try {\n      root._bokeh_onload_callbacks.forEach(function(callback) { callback() });\n    }\n    finally {\n      delete root._bokeh_onload_callbacks\n    }\n    console.info(\"Bokeh: all callbacks have finished\");\n  }\n\n  function load_libs(js_urls, callback) {\n    root._bokeh_onload_callbacks.push(callback);\n    if (root._bokeh_is_loading > 0) {\n      console.log(\"Bokeh: BokehJS is being loaded, scheduling callback at\", now());\n      return null;\n    }\n    if (js_urls == null || js_urls.length === 0) {\n      run_callbacks();\n      return null;\n    }\n    console.log(\"Bokeh: BokehJS not loaded, scheduling load and callback at\", now());\n    root._bokeh_is_loading = js_urls.length;\n    for (var i = 0; i < js_urls.length; i++) {\n      var url = js_urls[i];\n      var s = document.createElement('script');\n      s.src = url;\n      s.async = false;\n      s.onreadystatechange = s.onload = function() {\n        root._bokeh_is_loading--;\n        if (root._bokeh_is_loading === 0) {\n          console.log(\"Bokeh: all BokehJS libraries loaded\");\n          run_callbacks()\n        }\n      };\n      s.onerror = function() {\n        console.warn(\"failed to load library \" + url);\n      };\n      console.log(\"Bokeh: injecting script tag for BokehJS library: \", url);\n      document.getElementsByTagName(\"head\")[0].appendChild(s);\n    }\n  };var element = document.getElementById(\"5e250332-b2ae-4696-ad65-b0b939a0bdf2\");\n  if (element == null) {\n    console.log(\"Bokeh: ERROR: autoload.js configured with elementid '5e250332-b2ae-4696-ad65-b0b939a0bdf2' but no matching script tag was found. \")\n    return false;\n  }\n\n  var js_urls = [\"https://cdn.pydata.org/bokeh/release/bokeh-0.13.0.min.js\", \"https://cdn.pydata.org/bokeh/release/bokeh-widgets-0.13.0.min.js\", \"https://cdn.pydata.org/bokeh/release/bokeh-tables-0.13.0.min.js\", \"https://cdn.pydata.org/bokeh/release/bokeh-gl-0.13.0.min.js\"];\n\n  var inline_js = [\n    function(Bokeh) {\n      Bokeh.set_log_level(\"info\");\n    },\n    \n    function(Bokeh) {\n      \n    },\n    function(Bokeh) {\n      console.log(\"Bokeh: injecting CSS: https://cdn.pydata.org/bokeh/release/bokeh-0.13.0.min.css\");\n      Bokeh.embed.inject_css(\"https://cdn.pydata.org/bokeh/release/bokeh-0.13.0.min.css\");\n      console.log(\"Bokeh: injecting CSS: https://cdn.pydata.org/bokeh/release/bokeh-widgets-0.13.0.min.css\");\n      Bokeh.embed.inject_css(\"https://cdn.pydata.org/bokeh/release/bokeh-widgets-0.13.0.min.css\");\n      console.log(\"Bokeh: injecting CSS: https://cdn.pydata.org/bokeh/release/bokeh-tables-0.13.0.min.css\");\n      Bokeh.embed.inject_css(\"https://cdn.pydata.org/bokeh/release/bokeh-tables-0.13.0.min.css\");\n    }\n  ];\n\n  function run_inline_js() {\n    \n    if ((root.Bokeh !== undefined) || (force === true)) {\n      for (var i = 0; i < inline_js.length; i++) {\n        inline_js[i].call(root, root.Bokeh);\n      }if (force === true) {\n        display_loaded();\n      }} else if (Date.now() < root._bokeh_timeout) {\n      setTimeout(run_inline_js, 100);\n    } else if (!root._bokeh_failed_load) {\n      console.log(\"Bokeh: BokehJS failed to load within specified timeout.\");\n      root._bokeh_failed_load = true;\n    } else if (force !== true) {\n      var cell = $(document.getElementById(\"5e250332-b2ae-4696-ad65-b0b939a0bdf2\")).parents('.cell').data().cell;\n      cell.output_area.append_execute_result(NB_LOAD_WARNING)\n    }\n\n  }\n\n  if (root._bokeh_is_loading === 0) {\n    console.log(\"Bokeh: BokehJS loaded, going straight to plotting\");\n    run_inline_js();\n  } else {\n    load_libs(js_urls, function() {\n      console.log(\"Bokeh: BokehJS plotting callback run at\", now());\n      run_inline_js();\n    });\n  }\n}(window));"
     },
     "metadata": {},
     "output_type": "display_data"
    }
   ],
   "source": [
    "import pathlib\n",
    "import datetime\n",
    "import sys\n",
    "import re\n",
    "import collections\n",
    "\n",
    "import IPython.display\n",
    "print_md = IPython.display.Markdown\n",
    "\n",
    "import pandas as pd\n",
    "import numpy as np\n",
    "import bokeh\n",
    "import bokeh.plotting as bkh\n",
    "import bokeh.models as bkhmodels\n",
    "bkh.output_notebook()"
   ]
  },
  {
   "cell_type": "markdown",
   "metadata": {},
   "source": [
    "# Run1.2i Initial Processing\n",
    "\n",
    "A look at the logs from coadd and multiband run on Edison (coadd, multiband) and KNL (calexp) in October, 2018\n",
    "\n",
    "The coadd jobs ran on 16 cores.  Each coadd job ran on one tract and one filter.\n",
    "\n",
    "Multiband jobs were run on 20 cores.  Each multiband job, ran on 4 patches of one tract, across all filters."
   ]
  },
  {
   "cell_type": "code",
   "execution_count": 3,
   "metadata": {},
   "outputs": [
    {
     "name": "stderr",
     "output_type": "stream",
     "text": [
      "/global/common/cori/software/python/3.6-anaconda-5.2/lib/python3.6/site-packages/pandas/core/frame.py:6201: FutureWarning: Sorting because non-concatenation axis is not aligned. A future version\n",
      "of pandas will change to not sort by default.\n",
      "\n",
      "To accept the future behavior, pass 'sort=True'.\n",
      "\n",
      "To retain the current behavior and silence the warning, pass sort=False\n",
      "\n",
      "  sort=sort)\n"
     ]
    },
    {
     "data": {
      "text/markdown": [
       "Loaded **2148** job accounting records"
      ],
      "text/plain": [
       "<IPython.core.display.Markdown object>"
      ]
     },
     "execution_count": 3,
     "metadata": {},
     "output_type": "execute_result"
    }
   ],
   "source": [
    "# Location at NERSC\n",
    "\n",
    "df = pd.DataFrame()\n",
    "\n",
    "#df = df.append(pd.read_json('/global/cscratch1/sd/heatherk/Run1.2i/processinglogs/edison/coadd/orglogs/coadd.json', lines=True))\n",
    "#df = df.append(pd.read_json('/global/cscratch1/sd/heatherk/Run1.2i/processinglogs/edison/multi/logs/multi.json', lines=True))\n",
    "df = df.append(pd.read_json('./coadd.json', lines=True))\n",
    "df = df.append(pd.read_json('./multi.json', lines=True))\n",
    "df = df.append(pd.read_json('./calexp.json', lines=True))\n",
    "\n",
    "    \n",
    "rows = df.shape[0]\n",
    "if rows == 0:\n",
    "    raise Exception(\"no job records could be loaded\")\n",
    "    \n",
    "print_md(f'Loaded **{rows}** job accounting records')"
   ]
  },
  {
   "cell_type": "code",
   "execution_count": 4,
   "metadata": {},
   "outputs": [
    {
     "data": {
      "text/markdown": [
       "Dataframe size: **2148 rows, 14 columns:**\n",
       "\n",
       " `band, cores, elapsed_time, elapsed_time_seconds, exit_status, job, max_mem_gbytes, max_mem_kbytes, patch, run, system_time_sec, tract, user_time_sec, visit`"
      ],
      "text/plain": [
       "<IPython.core.display.Markdown object>"
      ]
     },
     "execution_count": 4,
     "metadata": {},
     "output_type": "execute_result"
    }
   ],
   "source": [
    "num_rows, num_columns = df.shape\n",
    "columns = sorted(list(df))\n",
    "print_md(f'Dataframe size: **{num_rows} rows, {num_columns} columns:**\\n\\n `{\", \".join(columns)}`')"
   ]
  },
  {
   "cell_type": "markdown",
   "metadata": {},
   "source": [
    "# Looking at min, median, and max elapsed times and memory\n",
    "\n",
    "## Total elapsed time in hours for calexp + coadd + multiband"
   ]
  },
  {
   "cell_type": "code",
   "execution_count": 5,
   "metadata": {},
   "outputs": [
    {
     "data": {
      "text/plain": [
       "5516.9183333333331"
      ]
     },
     "execution_count": 5,
     "metadata": {},
     "output_type": "execute_result"
    }
   ],
   "source": [
    "(df.loc[(df['exit_status']==0)&(df['job']=='calexp'),\"elapsed_time_seconds\"].sum() + df.loc[(df['exit_status']==0)&(df['job']=='coadd'),\"elapsed_time_seconds\"].sum()+df.loc[(df['exit_status']==0)&(df['job']=='multiband'),\"elapsed_time_seconds\"].min())/3600"
   ]
  },
  {
   "cell_type": "markdown",
   "metadata": {},
   "source": [
    "## Calexp elapsed time in hours"
   ]
  },
  {
   "cell_type": "code",
   "execution_count": 6,
   "metadata": {},
   "outputs": [
    {
     "data": {
      "text/plain": [
       "0.035277777777777776"
      ]
     },
     "execution_count": 6,
     "metadata": {},
     "output_type": "execute_result"
    }
   ],
   "source": [
    "df.loc[(df['exit_status']==0)&(df['job']=='calexp'),\"elapsed_time_seconds\"].min()/3600"
   ]
  },
  {
   "cell_type": "code",
   "execution_count": 7,
   "metadata": {},
   "outputs": [
    {
     "data": {
      "text/plain": [
       "2.117777777777778"
      ]
     },
     "execution_count": 7,
     "metadata": {},
     "output_type": "execute_result"
    }
   ],
   "source": [
    "df.loc[(df['exit_status']==0)&(df['job']=='calexp'),\"elapsed_time_seconds\"].median()/3600"
   ]
  },
  {
   "cell_type": "code",
   "execution_count": 8,
   "metadata": {},
   "outputs": [
    {
     "data": {
      "text/plain": [
       "14.396944444444445"
      ]
     },
     "execution_count": 8,
     "metadata": {},
     "output_type": "execute_result"
    }
   ],
   "source": [
    "df.loc[(df['exit_status']==0)&(df['job']=='calexp'),\"elapsed_time_seconds\"].max()/3600"
   ]
  },
  {
   "cell_type": "code",
   "execution_count": 9,
   "metadata": {},
   "outputs": [
    {
     "data": {
      "text/plain": [
       "5220.745277777778"
      ]
     },
     "execution_count": 9,
     "metadata": {},
     "output_type": "execute_result"
    }
   ],
   "source": [
    "df.loc[(df['exit_status']==0)&(df['job']=='calexp'),\"elapsed_time_seconds\"].sum()/3600"
   ]
  },
  {
   "cell_type": "markdown",
   "metadata": {},
   "source": [
    "## calexp memory use in gigabytes"
   ]
  },
  {
   "cell_type": "code",
   "execution_count": 10,
   "metadata": {},
   "outputs": [
    {
     "data": {
      "text/plain": [
       "0.42854799999999998"
      ]
     },
     "execution_count": 10,
     "metadata": {},
     "output_type": "execute_result"
    }
   ],
   "source": [
    "df.loc[(df['exit_status']==0)&(df['job']=='calexp'),\"max_mem_gbytes\"].min()"
   ]
  },
  {
   "cell_type": "code",
   "execution_count": 11,
   "metadata": {},
   "outputs": [
    {
     "data": {
      "text/plain": [
       "0.45078"
      ]
     },
     "execution_count": 11,
     "metadata": {},
     "output_type": "execute_result"
    }
   ],
   "source": [
    "df.loc[(df['exit_status']==0)&(df['job']=='calexp'),\"max_mem_gbytes\"].median()"
   ]
  },
  {
   "cell_type": "code",
   "execution_count": 12,
   "metadata": {},
   "outputs": [
    {
     "data": {
      "text/plain": [
       "1.7376960000000001"
      ]
     },
     "execution_count": 12,
     "metadata": {},
     "output_type": "execute_result"
    }
   ],
   "source": [
    "df.loc[(df['exit_status']==0)&(df['job']=='calexp'),\"max_mem_gbytes\"].max()"
   ]
  },
  {
   "cell_type": "markdown",
   "metadata": {},
   "source": [
    "## Coadd elapsed time in hours"
   ]
  },
  {
   "cell_type": "code",
   "execution_count": 13,
   "metadata": {},
   "outputs": [
    {
     "data": {
      "text/plain": [
       "0.12722222222222221"
      ]
     },
     "execution_count": 13,
     "metadata": {},
     "output_type": "execute_result"
    }
   ],
   "source": [
    "df.loc[(df['exit_status']==0)&(df['job']=='coadd'),\"elapsed_time_seconds\"].min()/3600"
   ]
  },
  {
   "cell_type": "code",
   "execution_count": 14,
   "metadata": {},
   "outputs": [
    {
     "data": {
      "text/plain": [
       "2.144722222222222"
      ]
     },
     "execution_count": 14,
     "metadata": {},
     "output_type": "execute_result"
    }
   ],
   "source": [
    "df.loc[(df['exit_status']==0)&(df['job']=='coadd'),\"elapsed_time_seconds\"].median()/3600"
   ]
  },
  {
   "cell_type": "code",
   "execution_count": 15,
   "metadata": {},
   "outputs": [
    {
     "data": {
      "text/plain": [
       "8.8755555555555556"
      ]
     },
     "execution_count": 15,
     "metadata": {},
     "output_type": "execute_result"
    }
   ],
   "source": [
    "df.loc[(df['exit_status']==0)&(df['job']=='coadd'),\"elapsed_time_seconds\"].max()/3600"
   ]
  },
  {
   "cell_type": "code",
   "execution_count": 16,
   "metadata": {},
   "outputs": [
    {
     "data": {
      "text/plain": [
       "296.14916666666664"
      ]
     },
     "execution_count": 16,
     "metadata": {},
     "output_type": "execute_result"
    }
   ],
   "source": [
    "df.loc[(df['exit_status']==0)&(df['job']=='coadd'),\"elapsed_time_seconds\"].sum()/3600"
   ]
  },
  {
   "cell_type": "markdown",
   "metadata": {},
   "source": [
    "## coadd memory use in gigabytes"
   ]
  },
  {
   "cell_type": "code",
   "execution_count": 17,
   "metadata": {},
   "outputs": [
    {
     "data": {
      "text/plain": [
       "3.411292"
      ]
     },
     "execution_count": 17,
     "metadata": {},
     "output_type": "execute_result"
    }
   ],
   "source": [
    "df.loc[(df['exit_status']==0)&(df['job']=='coadd'),\"max_mem_gbytes\"].min()"
   ]
  },
  {
   "cell_type": "code",
   "execution_count": 18,
   "metadata": {},
   "outputs": [
    {
     "data": {
      "text/plain": [
       "4.05598"
      ]
     },
     "execution_count": 18,
     "metadata": {},
     "output_type": "execute_result"
    }
   ],
   "source": [
    "df.loc[(df['exit_status']==0)&(df['job']=='coadd'),\"max_mem_gbytes\"].median()"
   ]
  },
  {
   "cell_type": "code",
   "execution_count": 19,
   "metadata": {},
   "outputs": [
    {
     "data": {
      "text/plain": [
       "6.1644480000000001"
      ]
     },
     "execution_count": 19,
     "metadata": {},
     "output_type": "execute_result"
    }
   ],
   "source": [
    "df.loc[(df['exit_status']==0)&(df['job']=='coadd'),\"max_mem_gbytes\"].max()"
   ]
  },
  {
   "cell_type": "markdown",
   "metadata": {},
   "source": [
    "## Multiband elapsed time in hours"
   ]
  },
  {
   "cell_type": "code",
   "execution_count": 20,
   "metadata": {},
   "outputs": [
    {
     "data": {
      "text/plain": [
       "0.4865277777777778"
      ]
     },
     "execution_count": 20,
     "metadata": {},
     "output_type": "execute_result"
    }
   ],
   "source": [
    "df.loc[(df['exit_status']==0)&(df['job']=='multiband'),\"elapsed_time_seconds\"].median()/3600"
   ]
  },
  {
   "cell_type": "code",
   "execution_count": 21,
   "metadata": {},
   "outputs": [
    {
     "data": {
      "text/plain": [
       "2.013611111111111"
      ]
     },
     "execution_count": 21,
     "metadata": {},
     "output_type": "execute_result"
    }
   ],
   "source": [
    "df.loc[(df['exit_status']==0)&(df['job']=='multiband'),\"elapsed_time_seconds\"].max()/3600"
   ]
  },
  {
   "cell_type": "code",
   "execution_count": 22,
   "metadata": {},
   "outputs": [
    {
     "data": {
      "text/plain": [
       "0.02388888888888889"
      ]
     },
     "execution_count": 22,
     "metadata": {},
     "output_type": "execute_result"
    }
   ],
   "source": [
    "df.loc[(df['exit_status']==0)&(df['job']=='multiband'),\"elapsed_time_seconds\"].min()/3600"
   ]
  },
  {
   "cell_type": "code",
   "execution_count": 23,
   "metadata": {},
   "outputs": [
    {
     "data": {
      "text/plain": [
       "175.85166666666666"
      ]
     },
     "execution_count": 23,
     "metadata": {},
     "output_type": "execute_result"
    }
   ],
   "source": [
    "df.loc[(df['exit_status']==0)&(df['job']=='multiband'),\"elapsed_time_seconds\"].sum()/3600"
   ]
  },
  {
   "cell_type": "markdown",
   "metadata": {},
   "source": [
    "## Multiband memory use in gigabytes"
   ]
  },
  {
   "cell_type": "code",
   "execution_count": 24,
   "metadata": {},
   "outputs": [
    {
     "data": {
      "text/plain": [
       "0.52136799999999994"
      ]
     },
     "execution_count": 24,
     "metadata": {},
     "output_type": "execute_result"
    }
   ],
   "source": [
    "df.loc[(df['exit_status']==0)&(df['job']=='multiband'),\"max_mem_gbytes\"].min()"
   ]
  },
  {
   "cell_type": "code",
   "execution_count": 25,
   "metadata": {},
   "outputs": [
    {
     "data": {
      "text/plain": [
       "1.181486"
      ]
     },
     "execution_count": 25,
     "metadata": {},
     "output_type": "execute_result"
    }
   ],
   "source": [
    "df.loc[(df['exit_status']==0)&(df['job']=='multiband'),\"max_mem_gbytes\"].median()"
   ]
  },
  {
   "cell_type": "code",
   "execution_count": 26,
   "metadata": {},
   "outputs": [
    {
     "data": {
      "text/plain": [
       "2.2215639999999999"
      ]
     },
     "execution_count": 26,
     "metadata": {},
     "output_type": "execute_result"
    }
   ],
   "source": [
    "df.loc[(df['job']=='multiband'),\"max_mem_gbytes\"].max()"
   ]
  },
  {
   "cell_type": "code",
   "execution_count": 27,
   "metadata": {},
   "outputs": [],
   "source": [
    "def format_pct_hours(v):\n",
    "    \"\"\"Format v to be displayed as a percentile, in hours. Argument v is expected to be seconds.\n",
    "    \"\"\"\n",
    "    return \"<1\" if v < 3600.0 else f'{int(v/3600.0)}'\n",
    "\n",
    "def format_pct_min(v):\n",
    "    \"\"\"Format v to be displayed as a percentile, in minutes. Argument v is expected to be seconds.\n",
    "    \"\"\"\n",
    "    return \"<1\" if v < 60.0 else f'{int(v/60.0)}'\n",
    "\n",
    "def style_figure(fig, x_font_style='bold', x_label_standoff=15, y_font_style='bold', y_label_standoff=15):\n",
    "    \"\"\"Style some attributes of a Bokeh figure\n",
    "    \"\"\"\n",
    "    # Figure size (in screen units)\n",
    "    fig.plot_width = 800\n",
    "    fig.plot_height = 600\n",
    "    \n",
    "    # Autohide figure toolbar\n",
    "    #fig.toolbar.autohide = True\n",
    "\n",
    "    # Figure background fill color and alpha\n",
    "    fig.background_fill_color = 'whitesmoke'\n",
    "    fig.background_fill_alpha = 0.8\n",
    "    \n",
    "    # Axis properties\n",
    "    fig.xaxis.axis_label_text_font_style = x_font_style\n",
    "    fig.xaxis.axis_label_standoff =  x_label_standoff\n",
    "    fig.yaxis.axis_label_text_font_style = y_font_style\n",
    "    fig.yaxis.axis_label_standoff =  y_label_standoff"
   ]
  },
  {
   "cell_type": "code",
   "execution_count": 28,
   "metadata": {},
   "outputs": [
    {
     "data": {
      "text/markdown": [
       "\n",
       "### Percentage of failed jobs (`exit_status != 0`)\n",
       "\n",
       "| Band | Job Count | Succeeded | Failed |\n",
       "| ----: | --------: | --------: | -----: |\n",
       "| **NA** | 1,726 | 99% | 1% |\n",
       "| **g^i^r^u^y^z** | 320 | 100% | n/a |\n",
       "| **y** | 21 | 100% | n/a |\n",
       "| **r** | 21 | 100% | n/a |\n",
       "| **z** | 20 | 100% | n/a |\n",
       "| **u** | 20 | 95% | 5% |\n",
       "| **i** | 20 | 100% | n/a |\n",
       "\n",
       "*The table above shows the fraction of succeeded and failed jobs per band. A job is considered failed if its `exit_status` is not zero.*\n",
       "*g^i^r^u^y^z indicates multiband, while the single band jobs were coadds.*\n",
       "* where no band is indicated, it is a calexp job.*\n"
      ],
      "text/plain": [
       "<IPython.core.display.Markdown object>"
      ]
     },
     "execution_count": 28,
     "metadata": {},
     "output_type": "execute_result"
    }
   ],
   "source": [
    "def format_failed_pct(v):\n",
    "    return '{:.0%}'.format(v) if v > 0.0 else 'n/a'\n",
    "\n",
    "def format_job_count(count):\n",
    "    return '{:,}'.format(count)\n",
    "\n",
    "d = {}\n",
    "bands = df.groupby(['band']).size().sort_values(ascending=False)\n",
    "for b in bands.index:\n",
    "    job_count = bands[b]\n",
    "    succeeded = df.loc[(df['band'] == b) & (df['exit_status'] == 0)].shape[0]\n",
    "    d[b] = {\n",
    "        'job_count': job_count,\n",
    "        'succeeded': succeeded/job_count if job_count > 0 else 0,\n",
    "        'failed':    (job_count - succeeded)/job_count if job_count > 0 else 0,\n",
    "    }\n",
    "\n",
    "table = \"\"\"\n",
    "### Percentage of failed jobs (`exit_status != 0`)\n",
    "\n",
    "| Band | Job Count | Succeeded | Failed |\n",
    "| ----: | --------: | --------: | -----: |\n",
    "\"\"\"\n",
    "\n",
    "for k, v in d.items():\n",
    "    table += f'| **{k}** | {format_job_count(v[\"job_count\"])} | {format_failed_pct(v[\"succeeded\"])} | {format_failed_pct(v[\"failed\"])} |\\n'\n",
    "\n",
    "table += \"\"\"\n",
    "*The table above shows the fraction of succeeded and failed jobs per band. A job is considered failed if its `exit_status` is not zero.*\n",
    "*g^i^r^u^y^z indicates multiband, while the single band jobs were coadds.*\n",
    "* where no band is indicated, it is a calexp job.*\n",
    "\"\"\"    \n",
    "print_md(table)"
   ]
  },
  {
   "cell_type": "code",
   "execution_count": 29,
   "metadata": {},
   "outputs": [
    {
     "data": {
      "text/html": [
       "\n",
       "\n",
       "\n",
       "\n",
       "\n",
       "\n",
       "  <div class=\"bk-root\" id=\"a4e8ce76-e944-4dc1-a2a6-d0f904e45466\"></div>\n"
      ]
     },
     "metadata": {},
     "output_type": "display_data"
    },
    {
     "data": {
      "application/javascript": [
       "(function(root) {\n",
       "  function embed_document(root) {\n",
       "    \n",
       "  var docs_json = {\"3313e852-368a-48e2-880e-c5fc965f298b\":{\"roots\":{\"references\":[{\"attributes\":{\"source\":{\"id\":\"92a928fd-af2d-4231-8705-25bce6f396b2\",\"type\":\"ColumnDataSource\"}},\"id\":\"79936618-4133-4d92-8fd9-08d8adec3218\",\"type\":\"CDSView\"},{\"attributes\":{},\"id\":\"3f681dad-27d9-488f-aba1-902f26fa16b4\",\"type\":\"Selection\"},{\"attributes\":{},\"id\":\"fed92d5d-a06e-434e-b243-30324eeb4e1a\",\"type\":\"LinearScale\"},{\"attributes\":{},\"id\":\"7c93655a-27c2-4914-8703-54139b3fc8c8\",\"type\":\"HelpTool\"},{\"attributes\":{\"callback\":null,\"data\":{\"left\":{\"__ndarray__\":\"ZYepy+0Poj+1NYSfhzzZPz6dycKIG+g/0Y/o2mbM8T8DUWxUCYv3PzUS8M2rSf0/tOm5IyeEAUBNyntgeGMEQOaqPZ3JQgdAf4v/2RoiCkAYbMEWbAENQLFMg1O94A9ApZYiSAdgEUDxhoPmr88SQD535IRYPxRAi2dFIwGvFUDXV6bBqR4XQCNIB2BSjhhAcDho/vr9GUC9KMmco20bQAkZKjtM3RxAVQmL2fRMHkCi+et3nbwfQPd0JgsjliBAHe1WWvdNIUBDZYepywUiQGndt/ifvSJAkFXoR3R1I0C2zRiXSC0kQNxFSeYc5SRAA755NfGcJUApNqqExVQmQE+u2tOZDCdAdSYLI27EJ0CbnjtyQnwoQMIWbMEWNClA6I6cEOvrKUAOB81fv6MqQDV//a6TWytAW/ct/mcTLEA=\",\"dtype\":\"float64\",\"shape\":[40]},\"right\":{\"__ndarray__\":\"tTWEn4c82T8+ncnCiBvoP9GP6NpmzPE/A1FsVAmL9z81EvDNq0n9P7TpuSMnhAFATcp7YHhjBEDmqj2dyUIHQH+L/9kaIgpAGGzBFmwBDUCxTINTveAPQKWWIkgHYBFA8YaD5q/PEkA+d+SEWD8UQItnRSMBrxVA11emwakeF0AjSAdgUo4YQHA4aP76/RlAvSjJnKNtG0AJGSo7TN0cQFUJi9n0TB5Aovnrd528H0D3dCYLI5YgQB3tVlr3TSFAQ2WHqcsFIkBp3bf4n70iQJBV6Ed0dSNAts0Yl0gtJEDcRUnmHOUkQAO+eTXxnCVAKTaqhMVUJkBPrtrTmQwnQHUmCyNuxCdAm547ckJ8KEDCFmzBFjQpQOiOnBDr6ylADgfNX7+jKkA1f/2uk1srQFv3Lf5nEyxAgW9eTTzLLEA=\",\"dtype\":\"float64\",\"shape\":[40]},\"top\":[357,192,94,84,65,93,65,56,104,108,35,33,15,21,18,18,64,58,12,18,24,18,13,12,8,25,40,19,1,1,5,5,4,5,8,6,2,0,1,8]},\"selected\":{\"id\":\"3f681dad-27d9-488f-aba1-902f26fa16b4\",\"type\":\"Selection\"},\"selection_policy\":{\"id\":\"7c420c93-6ebf-4f2a-9891-a1230ae1fdf6\",\"type\":\"UnionRenderers\"}},\"id\":\"92a928fd-af2d-4231-8705-25bce6f396b2\",\"type\":\"ColumnDataSource\"},{\"attributes\":{\"active_drag\":\"auto\",\"active_inspect\":\"auto\",\"active_multi\":null,\"active_scroll\":\"auto\",\"active_tap\":\"auto\",\"tools\":[{\"id\":\"a261e235-0b9e-4846-8681-365db34859ae\",\"type\":\"PanTool\"},{\"id\":\"abcbb06e-d0e9-4554-a924-5c6a53d212af\",\"type\":\"WheelZoomTool\"},{\"id\":\"a24657b1-3d43-4290-a2c3-4163e37c08e8\",\"type\":\"BoxZoomTool\"},{\"id\":\"09035b73-c9fc-48ab-a6a9-6f5a3b7d5051\",\"type\":\"SaveTool\"},{\"id\":\"100a6b34-8fc1-47c9-9e58-0fe06abfce6e\",\"type\":\"ResetTool\"},{\"id\":\"7c93655a-27c2-4914-8703-54139b3fc8c8\",\"type\":\"HelpTool\"},{\"id\":\"81ac6880-2cdb-451c-aa05-c6c5c990aada\",\"type\":\"HoverTool\"}]},\"id\":\"55bc5b6f-9b29-494c-9162-465dee4de46c\",\"type\":\"Toolbar\"},{\"attributes\":{\"bottom_units\":\"screen\",\"fill_alpha\":{\"value\":0.5},\"fill_color\":{\"value\":\"lightgrey\"},\"left_units\":\"screen\",\"level\":\"overlay\",\"line_alpha\":{\"value\":1.0},\"line_color\":{\"value\":\"black\"},\"line_dash\":[4,4],\"line_width\":{\"value\":2},\"plot\":null,\"render_mode\":\"css\",\"right_units\":\"screen\",\"top_units\":\"screen\"},\"id\":\"9de8753a-afbd-4a46-a92c-49deca32bd63\",\"type\":\"BoxAnnotation\"},{\"attributes\":{\"bottom\":{\"value\":0},\"fill_alpha\":{\"value\":0.1},\"fill_color\":{\"value\":\"#1f77b4\"},\"left\":{\"field\":\"left\"},\"line_alpha\":{\"value\":0.1},\"line_color\":{\"value\":\"#1f77b4\"},\"right\":{\"field\":\"right\"},\"top\":{\"field\":\"top\"}},\"id\":\"4cdd27b7-e18d-4048-bd57-d7cbd8c1adf4\",\"type\":\"Quad\"},{\"attributes\":{},\"id\":\"100a6b34-8fc1-47c9-9e58-0fe06abfce6e\",\"type\":\"ResetTool\"},{\"attributes\":{\"data_source\":{\"id\":\"92a928fd-af2d-4231-8705-25bce6f396b2\",\"type\":\"ColumnDataSource\"},\"glyph\":{\"id\":\"b385385f-1ef8-45fa-ad3f-eb5514f6bf20\",\"type\":\"Quad\"},\"hover_glyph\":null,\"muted_glyph\":null,\"nonselection_glyph\":{\"id\":\"4cdd27b7-e18d-4048-bd57-d7cbd8c1adf4\",\"type\":\"Quad\"},\"selection_glyph\":null,\"view\":{\"id\":\"79936618-4133-4d92-8fd9-08d8adec3218\",\"type\":\"CDSView\"}},\"id\":\"057a5d59-7daf-447a-a094-2e5f438c9bf9\",\"type\":\"GlyphRenderer\"},{\"attributes\":{},\"id\":\"09035b73-c9fc-48ab-a6a9-6f5a3b7d5051\",\"type\":\"SaveTool\"},{\"attributes\":{},\"id\":\"abcbb06e-d0e9-4554-a924-5c6a53d212af\",\"type\":\"WheelZoomTool\"},{\"attributes\":{\"callback\":null,\"renderers\":\"auto\",\"tooltips\":[[\"jobs\",\"@top{0,000}\"],[\"low\",\"@left{0.0} hours\"],[\"high\",\"@right{0.0} hours\"]]},\"id\":\"81ac6880-2cdb-451c-aa05-c6c5c990aada\",\"type\":\"HoverTool\"},{\"attributes\":{},\"id\":\"4edadd88-9159-4942-9a34-9e7f2ca2f5bc\",\"type\":\"NumeralTickFormatter\"},{\"attributes\":{\"overlay\":{\"id\":\"9de8753a-afbd-4a46-a92c-49deca32bd63\",\"type\":\"BoxAnnotation\"}},\"id\":\"a24657b1-3d43-4290-a2c3-4163e37c08e8\",\"type\":\"BoxZoomTool\"},{\"attributes\":{},\"id\":\"54c06440-609d-4958-a57a-9fd4a3e98eae\",\"type\":\"BasicTicker\"},{\"attributes\":{},\"id\":\"ae97f6af-38cf-4c7d-a611-c9b26086f86c\",\"type\":\"LinearScale\"},{\"attributes\":{\"callback\":null},\"id\":\"66d22e7d-1e0d-4ad9-8feb-66c20e605623\",\"type\":\"DataRange1d\"},{\"attributes\":{\"callback\":null},\"id\":\"b062a5db-3863-4e96-9da9-236218443be5\",\"type\":\"DataRange1d\"},{\"attributes\":{},\"id\":\"b698898f-e491-444f-b051-2e5d9ad6803b\",\"type\":\"BasicTicker\"},{\"attributes\":{\"background_fill_alpha\":{\"value\":0.8},\"background_fill_color\":{\"value\":\"whitesmoke\"},\"below\":[{\"id\":\"fcdd57f7-d252-4062-87cf-5abf349c052d\",\"type\":\"LinearAxis\"}],\"left\":[{\"id\":\"8734c948-9dda-4a6c-9c40-675233d1dded\",\"type\":\"LinearAxis\"}],\"plot_width\":800,\"renderers\":[{\"id\":\"fcdd57f7-d252-4062-87cf-5abf349c052d\",\"type\":\"LinearAxis\"},{\"id\":\"b43a390a-bf5d-4b06-ac13-f75615830fd6\",\"type\":\"Grid\"},{\"id\":\"8734c948-9dda-4a6c-9c40-675233d1dded\",\"type\":\"LinearAxis\"},{\"id\":\"8c2c0526-c5db-436f-b62f-512a66d1e2de\",\"type\":\"Grid\"},{\"id\":\"9de8753a-afbd-4a46-a92c-49deca32bd63\",\"type\":\"BoxAnnotation\"},{\"id\":\"057a5d59-7daf-447a-a094-2e5f438c9bf9\",\"type\":\"GlyphRenderer\"}],\"title\":{\"id\":\"76007230-29b7-4493-ac2e-389c7470597a\",\"type\":\"Title\"},\"toolbar\":{\"id\":\"55bc5b6f-9b29-494c-9162-465dee4de46c\",\"type\":\"Toolbar\"},\"x_range\":{\"id\":\"b062a5db-3863-4e96-9da9-236218443be5\",\"type\":\"DataRange1d\"},\"x_scale\":{\"id\":\"fed92d5d-a06e-434e-b243-30324eeb4e1a\",\"type\":\"LinearScale\"},\"y_range\":{\"id\":\"66d22e7d-1e0d-4ad9-8feb-66c20e605623\",\"type\":\"DataRange1d\"},\"y_scale\":{\"id\":\"ae97f6af-38cf-4c7d-a611-c9b26086f86c\",\"type\":\"LinearScale\"}},\"id\":\"a5a79f1f-0beb-427a-ab56-52c7ba7427d1\",\"subtype\":\"Figure\",\"type\":\"Plot\"},{\"attributes\":{\"axis_label\":\"job count\",\"axis_label_standoff\":15,\"axis_label_text_font_style\":\"bold\",\"formatter\":{\"id\":\"4edadd88-9159-4942-9a34-9e7f2ca2f5bc\",\"type\":\"NumeralTickFormatter\"},\"plot\":{\"id\":\"a5a79f1f-0beb-427a-ab56-52c7ba7427d1\",\"subtype\":\"Figure\",\"type\":\"Plot\"},\"ticker\":{\"id\":\"54c06440-609d-4958-a57a-9fd4a3e98eae\",\"type\":\"BasicTicker\"}},\"id\":\"8734c948-9dda-4a6c-9c40-675233d1dded\",\"type\":\"LinearAxis\"},{\"attributes\":{\"dimension\":1,\"plot\":{\"id\":\"a5a79f1f-0beb-427a-ab56-52c7ba7427d1\",\"subtype\":\"Figure\",\"type\":\"Plot\"},\"ticker\":{\"id\":\"54c06440-609d-4958-a57a-9fd4a3e98eae\",\"type\":\"BasicTicker\"}},\"id\":\"8c2c0526-c5db-436f-b62f-512a66d1e2de\",\"type\":\"Grid\"},{\"attributes\":{\"bottom\":{\"value\":0},\"fill_alpha\":{\"value\":0.7},\"fill_color\":{\"value\":\"darkseagreen\"},\"left\":{\"field\":\"left\"},\"line_alpha\":{\"value\":0.7},\"line_color\":{\"value\":\"darkseagreen\"},\"right\":{\"field\":\"right\"},\"top\":{\"field\":\"top\"}},\"id\":\"b385385f-1ef8-45fa-ad3f-eb5514f6bf20\",\"type\":\"Quad\"},{\"attributes\":{\"axis_label\":\"execution wallclock time (hours)\",\"axis_label_standoff\":15,\"axis_label_text_font_style\":\"bold\",\"formatter\":{\"id\":\"0f8b7507-5321-4f7a-8a27-72fb723a2999\",\"type\":\"BasicTickFormatter\"},\"plot\":{\"id\":\"a5a79f1f-0beb-427a-ab56-52c7ba7427d1\",\"subtype\":\"Figure\",\"type\":\"Plot\"},\"ticker\":{\"id\":\"b698898f-e491-444f-b051-2e5d9ad6803b\",\"type\":\"BasicTicker\"}},\"id\":\"fcdd57f7-d252-4062-87cf-5abf349c052d\",\"type\":\"LinearAxis\"},{\"attributes\":{},\"id\":\"7c420c93-6ebf-4f2a-9891-a1230ae1fdf6\",\"type\":\"UnionRenderers\"},{\"attributes\":{\"plot\":{\"id\":\"a5a79f1f-0beb-427a-ab56-52c7ba7427d1\",\"subtype\":\"Figure\",\"type\":\"Plot\"},\"ticker\":{\"id\":\"b698898f-e491-444f-b051-2e5d9ad6803b\",\"type\":\"BasicTicker\"}},\"id\":\"b43a390a-bf5d-4b06-ac13-f75615830fd6\",\"type\":\"Grid\"},{\"attributes\":{},\"id\":\"0f8b7507-5321-4f7a-8a27-72fb723a2999\",\"type\":\"BasicTickFormatter\"},{\"attributes\":{\"plot\":null,\"text\":\"DISTRIBUTION OF JOB EXECUTION WALLCLOCK TIME CALEXP\"},\"id\":\"76007230-29b7-4493-ac2e-389c7470597a\",\"type\":\"Title\"},{\"attributes\":{},\"id\":\"a261e235-0b9e-4846-8681-365db34859ae\",\"type\":\"PanTool\"}],\"root_ids\":[\"a5a79f1f-0beb-427a-ab56-52c7ba7427d1\"]},\"title\":\"Bokeh Application\",\"version\":\"0.13.0\"}};\n",
       "  var render_items = [{\"docid\":\"3313e852-368a-48e2-880e-c5fc965f298b\",\"roots\":{\"a5a79f1f-0beb-427a-ab56-52c7ba7427d1\":\"a4e8ce76-e944-4dc1-a2a6-d0f904e45466\"}}];\n",
       "  root.Bokeh.embed.embed_items_notebook(docs_json, render_items);\n",
       "\n",
       "  }\n",
       "  if (root.Bokeh !== undefined) {\n",
       "    embed_document(root);\n",
       "  } else {\n",
       "    var attempts = 0;\n",
       "    var timer = setInterval(function(root) {\n",
       "      if (root.Bokeh !== undefined) {\n",
       "        embed_document(root);\n",
       "        clearInterval(timer);\n",
       "      }\n",
       "      attempts++;\n",
       "      if (attempts > 100) {\n",
       "        console.log(\"Bokeh: ERROR: Unable to run BokehJS code because BokehJS library is missing\")\n",
       "        clearInterval(timer);\n",
       "      }\n",
       "    }, 10, root)\n",
       "  }\n",
       "})(window);"
      ],
      "application/vnd.bokehjs_exec.v0+json": ""
     },
     "metadata": {
      "application/vnd.bokehjs_exec.v0+json": {
       "id": "a5a79f1f-0beb-427a-ab56-52c7ba7427d1"
      }
     },
     "output_type": "display_data"
    }
   ],
   "source": [
    "fig = bkh.figure(\n",
    "    title = 'DISTRIBUTION OF JOB EXECUTION WALLCLOCK TIME CALEXP ON KNL',\n",
    "    x_axis_label = 'execution wallclock time (hours)',\n",
    "    y_axis_label = 'job count'\n",
    ")\n",
    "\n",
    "\n",
    "style_figure(fig)\n",
    "color, alpha = 'darkseagreen', 0.7\n",
    "hist, edges = np.histogram(df.loc[(df['exit_status']==0)&(df['job']=='calexp'),'elapsed_time_seconds']/3600, density=False, bins=40)\n",
    "fig.quad(top=hist, bottom=0, left=edges[:-1], right=edges[1:], alpha=alpha, fill_color=color, line_color=color)\n",
    "fig.yaxis.formatter = bkhmodels.formatters.NumeralTickFormatter(format=\"0,0\")\n",
    "fig.add_tools(bkhmodels.HoverTool(\n",
    "    tooltips = [\n",
    "        ('jobs', '@top{0,000}'),\n",
    "        ('low',  '@left{0.0} hours'),\n",
    "        ('high', '@right{0.0} hours'),\n",
    "    ],\n",
    "    mode = 'mouse',\n",
    "))\n",
    "bkh.show(fig)"
   ]
  },
  {
   "cell_type": "code",
   "execution_count": 30,
   "metadata": {},
   "outputs": [
    {
     "data": {
      "text/html": [
       "\n",
       "\n",
       "\n",
       "\n",
       "\n",
       "\n",
       "  <div class=\"bk-root\" id=\"925ad9a3-c698-44a4-96bf-57646dfc9a01\"></div>\n"
      ]
     },
     "metadata": {},
     "output_type": "display_data"
    },
    {
     "data": {
      "application/javascript": [
       "(function(root) {\n",
       "  function embed_document(root) {\n",
       "    \n",
       "  var docs_json = {\"ae2b4e78-8364-4059-be3f-8cc28f32cf4c\":{\"roots\":{\"references\":[{\"attributes\":{\"background_fill_alpha\":{\"value\":0.8},\"background_fill_color\":{\"value\":\"whitesmoke\"},\"below\":[{\"id\":\"4c8d96fc-835a-4f22-a557-e54d4e1857cd\",\"type\":\"LinearAxis\"}],\"left\":[{\"id\":\"6e31fbdc-9367-4690-81a2-f4eb2aef3282\",\"type\":\"LinearAxis\"}],\"plot_width\":800,\"renderers\":[{\"id\":\"4c8d96fc-835a-4f22-a557-e54d4e1857cd\",\"type\":\"LinearAxis\"},{\"id\":\"f41f6b72-f84e-43a0-85f8-fa484888a482\",\"type\":\"Grid\"},{\"id\":\"6e31fbdc-9367-4690-81a2-f4eb2aef3282\",\"type\":\"LinearAxis\"},{\"id\":\"600e2978-c476-49de-b503-7d0d9805c4d8\",\"type\":\"Grid\"},{\"id\":\"83b0f293-c46c-48c9-9639-38d7f87dc009\",\"type\":\"BoxAnnotation\"},{\"id\":\"083d1ebd-9250-4b32-bba7-e1772f8d65dc\",\"type\":\"GlyphRenderer\"}],\"title\":{\"id\":\"4ac4e93d-795e-4f9e-9709-4b687c55a83c\",\"type\":\"Title\"},\"toolbar\":{\"id\":\"13a4832a-5a7e-4a27-b55b-69a66e7fba72\",\"type\":\"Toolbar\"},\"x_range\":{\"id\":\"50133238-0cad-4d4e-983d-0c6006b7f693\",\"type\":\"DataRange1d\"},\"x_scale\":{\"id\":\"f7378b28-786b-4f49-b0b4-ed979d7d7a23\",\"type\":\"LinearScale\"},\"y_range\":{\"id\":\"c65edf49-2c3f-4e51-bfbb-5e18b29e7b0b\",\"type\":\"DataRange1d\"},\"y_scale\":{\"id\":\"5a427be3-7296-4aff-9417-5db89d6ad10d\",\"type\":\"LinearScale\"}},\"id\":\"c9e18c03-82e9-473e-b944-1b1c467af1f5\",\"subtype\":\"Figure\",\"type\":\"Plot\"},{\"attributes\":{\"bottom_units\":\"screen\",\"fill_alpha\":{\"value\":0.5},\"fill_color\":{\"value\":\"lightgrey\"},\"left_units\":\"screen\",\"level\":\"overlay\",\"line_alpha\":{\"value\":1.0},\"line_color\":{\"value\":\"black\"},\"line_dash\":[4,4],\"line_width\":{\"value\":2},\"plot\":null,\"render_mode\":\"css\",\"right_units\":\"screen\",\"top_units\":\"screen\"},\"id\":\"83b0f293-c46c-48c9-9639-38d7f87dc009\",\"type\":\"BoxAnnotation\"},{\"attributes\":{\"axis_label\":\"execution wallclock time (hours)\",\"axis_label_standoff\":15,\"axis_label_text_font_style\":\"bold\",\"formatter\":{\"id\":\"0ea05129-532b-4b24-9b08-3ba518072418\",\"type\":\"BasicTickFormatter\"},\"plot\":{\"id\":\"c9e18c03-82e9-473e-b944-1b1c467af1f5\",\"subtype\":\"Figure\",\"type\":\"Plot\"},\"ticker\":{\"id\":\"bfcfda58-6e12-4129-a639-483a916048e6\",\"type\":\"BasicTicker\"}},\"id\":\"4c8d96fc-835a-4f22-a557-e54d4e1857cd\",\"type\":\"LinearAxis\"},{\"attributes\":{\"plot\":{\"id\":\"c9e18c03-82e9-473e-b944-1b1c467af1f5\",\"subtype\":\"Figure\",\"type\":\"Plot\"},\"ticker\":{\"id\":\"bfcfda58-6e12-4129-a639-483a916048e6\",\"type\":\"BasicTicker\"}},\"id\":\"f41f6b72-f84e-43a0-85f8-fa484888a482\",\"type\":\"Grid\"},{\"attributes\":{\"bottom\":{\"value\":0},\"fill_alpha\":{\"value\":0.1},\"fill_color\":{\"value\":\"#1f77b4\"},\"left\":{\"field\":\"left\"},\"line_alpha\":{\"value\":0.1},\"line_color\":{\"value\":\"#1f77b4\"},\"right\":{\"field\":\"right\"},\"top\":{\"field\":\"top\"}},\"id\":\"cbcbe26d-39f5-4153-8b86-57d56f9f7bc9\",\"type\":\"Quad\"},{\"attributes\":{\"active_drag\":\"auto\",\"active_inspect\":\"auto\",\"active_multi\":null,\"active_scroll\":\"auto\",\"active_tap\":\"auto\",\"tools\":[{\"id\":\"bbaa0ab6-28a3-4bf7-9817-173cbba3f94f\",\"type\":\"PanTool\"},{\"id\":\"c1eaed2a-97b3-4984-8a58-f93bef6b29d4\",\"type\":\"WheelZoomTool\"},{\"id\":\"e0604bb9-4639-4223-9d1a-8d3ce2e03a6d\",\"type\":\"BoxZoomTool\"},{\"id\":\"47956030-f21e-4a00-a1b0-98466939fdb1\",\"type\":\"SaveTool\"},{\"id\":\"f7ab2249-a09e-480a-92b2-ce3130c93bc6\",\"type\":\"ResetTool\"},{\"id\":\"f30f1ebe-afce-45f8-b1c7-e697ebbc28bf\",\"type\":\"HelpTool\"},{\"id\":\"25dde46a-11e2-493e-94ac-8029523345e1\",\"type\":\"HoverTool\"}]},\"id\":\"13a4832a-5a7e-4a27-b55b-69a66e7fba72\",\"type\":\"Toolbar\"},{\"attributes\":{},\"id\":\"f30f1ebe-afce-45f8-b1c7-e697ebbc28bf\",\"type\":\"HelpTool\"},{\"attributes\":{},\"id\":\"c1eaed2a-97b3-4984-8a58-f93bef6b29d4\",\"type\":\"WheelZoomTool\"},{\"attributes\":{},\"id\":\"bfcfda58-6e12-4129-a639-483a916048e6\",\"type\":\"BasicTicker\"},{\"attributes\":{},\"id\":\"47956030-f21e-4a00-a1b0-98466939fdb1\",\"type\":\"SaveTool\"},{\"attributes\":{},\"id\":\"f7ab2249-a09e-480a-92b2-ce3130c93bc6\",\"type\":\"ResetTool\"},{\"attributes\":{},\"id\":\"f7378b28-786b-4f49-b0b4-ed979d7d7a23\",\"type\":\"LinearScale\"},{\"attributes\":{\"axis_label\":\"job count\",\"axis_label_standoff\":15,\"axis_label_text_font_style\":\"bold\",\"formatter\":{\"id\":\"843148a6-a9ce-43da-a643-8d25012f26ff\",\"type\":\"NumeralTickFormatter\"},\"plot\":{\"id\":\"c9e18c03-82e9-473e-b944-1b1c467af1f5\",\"subtype\":\"Figure\",\"type\":\"Plot\"},\"ticker\":{\"id\":\"2dfe8677-a4e3-450f-805d-cd0a05dad8a7\",\"type\":\"BasicTicker\"}},\"id\":\"6e31fbdc-9367-4690-81a2-f4eb2aef3282\",\"type\":\"LinearAxis\"},{\"attributes\":{},\"id\":\"8c4e8052-f9ce-4f13-b613-7c143de90da5\",\"type\":\"UnionRenderers\"},{\"attributes\":{},\"id\":\"bbaa0ab6-28a3-4bf7-9817-173cbba3f94f\",\"type\":\"PanTool\"},{\"attributes\":{\"plot\":null,\"text\":\"DISTRIBUTION OF JOB EXECUTION WALLCLOCK TIME COADDS\"},\"id\":\"4ac4e93d-795e-4f9e-9709-4b687c55a83c\",\"type\":\"Title\"},{\"attributes\":{\"dimension\":1,\"plot\":{\"id\":\"c9e18c03-82e9-473e-b944-1b1c467af1f5\",\"subtype\":\"Figure\",\"type\":\"Plot\"},\"ticker\":{\"id\":\"2dfe8677-a4e3-450f-805d-cd0a05dad8a7\",\"type\":\"BasicTicker\"}},\"id\":\"600e2978-c476-49de-b503-7d0d9805c4d8\",\"type\":\"Grid\"},{\"attributes\":{},\"id\":\"0ea05129-532b-4b24-9b08-3ba518072418\",\"type\":\"BasicTickFormatter\"},{\"attributes\":{\"source\":{\"id\":\"27a5563b-81a8-4b8a-b4fd-058e9c240537\",\"type\":\"ColumnDataSource\"}},\"id\":\"76061b3d-e410-4dbe-bafb-7b28eef08aa9\",\"type\":\"CDSView\"},{\"attributes\":{},\"id\":\"5a427be3-7296-4aff-9417-5db89d6ad10d\",\"type\":\"LinearScale\"},{\"attributes\":{\"overlay\":{\"id\":\"83b0f293-c46c-48c9-9639-38d7f87dc009\",\"type\":\"BoxAnnotation\"}},\"id\":\"e0604bb9-4639-4223-9d1a-8d3ce2e03a6d\",\"type\":\"BoxZoomTool\"},{\"attributes\":{},\"id\":\"843148a6-a9ce-43da-a643-8d25012f26ff\",\"type\":\"NumeralTickFormatter\"},{\"attributes\":{\"callback\":null,\"data\":{\"left\":{\"__ndarray__\":\"82riWdFIwD8SFrPpuSPWP1Z7OpOFEeI/o2ubMS4R6T/3Lf5nawjwPx2mLrc/iPM/RB5fBhQI9z9qlo9V6If6P5AOwKS8B/4/W0P4ecjDAEBuf5ChsoMCQIG7KMmcQwRAlffA8IYDBkCoM1kYccMHQLtv8T9bgwlAzquJZ0VDC0Dh5yGPLwMNQPQjurYZww5ABDAp74FBEEAOTvUCdyERQBdswRZsARJAIYqNKmHhEkAqqFk+VsETQDTGJVJLoRRAPuTxZUCBFUBHAr55NWEWQFEgio0qQRdAWj5WoR8hGEBkXCK1FAEZQG167sgJ4RlAd5i63P7AGkCAtobw86AbQIrUUgTpgBxAlPIeGN5gHUCdEOsr00AeQKcutz/IIB9AWKbBqV4AIEBdtaczWXAgQGLEjb1T4CBAZtNzR05QIUA=\",\"dtype\":\"float64\",\"shape\":[40]},\"right\":{\"__ndarray__\":\"Ehaz6bkj1j9WezqThRHiP6NrmzEuEek/9y3+Z2sI8D8dpi63P4jzP0QeXwYUCPc/apaPVeiH+j+QDsCkvAf+P1tD+HnIwwBAbn+QobKDAkCBuyjJnEMEQJX3wPCGAwZAqDNZGHHDB0C7b/E/W4MJQM6riWdFQwtA4echjy8DDUD0I7q2GcMOQAQwKe+BQRBADk71AnchEUAXbMEWbAESQCGKjSph4RJAKqhZPlbBE0A0xiVSS6EUQD7k8WVAgRVARwK+eTVhFkBRIIqNKkEXQFo+VqEfIRhAZFwitRQBGUBteu7ICeEZQHeYutz+wBpAgLaG8POgG0CK1FIE6YAcQJTyHhjeYB1AnRDrK9NAHkCnLrc/yCAfQFimwaleACBAXbWnM1lwIEBixI29U+AgQGbTc0dOUCFAa+JZ0UjAIUA=\",\"dtype\":\"float64\",\"shape\":[40]},\"top\":[8,9,6,8,5,3,6,1,4,2,5,3,4,1,3,0,1,2,3,0,2,2,1,1,0,2,1,1,2,2,2,4,1,0,0,1,1,2,0,2]},\"selected\":{\"id\":\"bf02f3b9-091e-497b-b494-9b54105e3388\",\"type\":\"Selection\"},\"selection_policy\":{\"id\":\"8c4e8052-f9ce-4f13-b613-7c143de90da5\",\"type\":\"UnionRenderers\"}},\"id\":\"27a5563b-81a8-4b8a-b4fd-058e9c240537\",\"type\":\"ColumnDataSource\"},{\"attributes\":{\"callback\":null,\"renderers\":\"auto\",\"tooltips\":[[\"jobs\",\"@top{0,000}\"],[\"low\",\"@left{0.0} hours\"],[\"high\",\"@right{0.0} hours\"]]},\"id\":\"25dde46a-11e2-493e-94ac-8029523345e1\",\"type\":\"HoverTool\"},{\"attributes\":{\"data_source\":{\"id\":\"27a5563b-81a8-4b8a-b4fd-058e9c240537\",\"type\":\"ColumnDataSource\"},\"glyph\":{\"id\":\"7636aa63-fc9f-415e-afcc-0a9132dd1c67\",\"type\":\"Quad\"},\"hover_glyph\":null,\"muted_glyph\":null,\"nonselection_glyph\":{\"id\":\"cbcbe26d-39f5-4153-8b86-57d56f9f7bc9\",\"type\":\"Quad\"},\"selection_glyph\":null,\"view\":{\"id\":\"76061b3d-e410-4dbe-bafb-7b28eef08aa9\",\"type\":\"CDSView\"}},\"id\":\"083d1ebd-9250-4b32-bba7-e1772f8d65dc\",\"type\":\"GlyphRenderer\"},{\"attributes\":{},\"id\":\"bf02f3b9-091e-497b-b494-9b54105e3388\",\"type\":\"Selection\"},{\"attributes\":{\"callback\":null},\"id\":\"c65edf49-2c3f-4e51-bfbb-5e18b29e7b0b\",\"type\":\"DataRange1d\"},{\"attributes\":{},\"id\":\"2dfe8677-a4e3-450f-805d-cd0a05dad8a7\",\"type\":\"BasicTicker\"},{\"attributes\":{\"bottom\":{\"value\":0},\"fill_alpha\":{\"value\":0.7},\"fill_color\":{\"value\":\"darkseagreen\"},\"left\":{\"field\":\"left\"},\"line_alpha\":{\"value\":0.7},\"line_color\":{\"value\":\"darkseagreen\"},\"right\":{\"field\":\"right\"},\"top\":{\"field\":\"top\"}},\"id\":\"7636aa63-fc9f-415e-afcc-0a9132dd1c67\",\"type\":\"Quad\"},{\"attributes\":{\"callback\":null},\"id\":\"50133238-0cad-4d4e-983d-0c6006b7f693\",\"type\":\"DataRange1d\"}],\"root_ids\":[\"c9e18c03-82e9-473e-b944-1b1c467af1f5\"]},\"title\":\"Bokeh Application\",\"version\":\"0.13.0\"}};\n",
       "  var render_items = [{\"docid\":\"ae2b4e78-8364-4059-be3f-8cc28f32cf4c\",\"roots\":{\"c9e18c03-82e9-473e-b944-1b1c467af1f5\":\"925ad9a3-c698-44a4-96bf-57646dfc9a01\"}}];\n",
       "  root.Bokeh.embed.embed_items_notebook(docs_json, render_items);\n",
       "\n",
       "  }\n",
       "  if (root.Bokeh !== undefined) {\n",
       "    embed_document(root);\n",
       "  } else {\n",
       "    var attempts = 0;\n",
       "    var timer = setInterval(function(root) {\n",
       "      if (root.Bokeh !== undefined) {\n",
       "        embed_document(root);\n",
       "        clearInterval(timer);\n",
       "      }\n",
       "      attempts++;\n",
       "      if (attempts > 100) {\n",
       "        console.log(\"Bokeh: ERROR: Unable to run BokehJS code because BokehJS library is missing\")\n",
       "        clearInterval(timer);\n",
       "      }\n",
       "    }, 10, root)\n",
       "  }\n",
       "})(window);"
      ],
      "application/vnd.bokehjs_exec.v0+json": ""
     },
     "metadata": {
      "application/vnd.bokehjs_exec.v0+json": {
       "id": "c9e18c03-82e9-473e-b944-1b1c467af1f5"
      }
     },
     "output_type": "display_data"
    }
   ],
   "source": [
    "fig = bkh.figure(\n",
    "    title = 'DISTRIBUTION OF JOB EXECUTION WALLCLOCK TIME COADDS ON EDISON',\n",
    "    x_axis_label = 'execution wallclock time (hours)',\n",
    "    y_axis_label = 'job count'\n",
    ")\n",
    "\n",
    "\n",
    "style_figure(fig)\n",
    "color, alpha = 'darkseagreen', 0.7\n",
    "df.loc[(df['exit_status']==0)&(df['job']=='coadd'),\"elapsed_time_seconds\"]\n",
    "hist, edges = np.histogram(df.loc[(df['exit_status']==0)&(df['job']=='coadd'),'elapsed_time_seconds']/3600, density=False, bins=40)\n",
    "fig.quad(top=hist, bottom=0, left=edges[:-1], right=edges[1:], alpha=alpha, fill_color=color, line_color=color)\n",
    "fig.yaxis.formatter = bkhmodels.formatters.NumeralTickFormatter(format=\"0,0\")\n",
    "fig.add_tools(bkhmodels.HoverTool(\n",
    "    tooltips = [\n",
    "        ('jobs', '@top{0,000}'),\n",
    "        ('low',  '@left{0.0} hours'),\n",
    "        ('high', '@right{0.0} hours'),\n",
    "    ],\n",
    "    mode = 'mouse',\n",
    "))\n",
    "bkh.show(fig)"
   ]
  },
  {
   "cell_type": "code",
   "execution_count": 31,
   "metadata": {},
   "outputs": [
    {
     "data": {
      "text/html": [
       "\n",
       "\n",
       "\n",
       "\n",
       "\n",
       "\n",
       "  <div class=\"bk-root\" id=\"1ff382ae-db6c-420b-9ad9-774094de6ebf\"></div>\n"
      ]
     },
     "metadata": {},
     "output_type": "display_data"
    },
    {
     "data": {
      "application/javascript": [
       "(function(root) {\n",
       "  function embed_document(root) {\n",
       "    \n",
       "  var docs_json = {\"ee69ce96-9d42-45e4-b73c-13590ae00563\":{\"roots\":{\"references\":[{\"attributes\":{},\"id\":\"c7a9119e-4525-4e1d-9cd4-d27930e65b1e\",\"type\":\"Selection\"},{\"attributes\":{\"background_fill_alpha\":{\"value\":0.8},\"background_fill_color\":{\"value\":\"whitesmoke\"},\"below\":[{\"id\":\"40a114a5-4ceb-4c1d-b224-8fad5dfa7475\",\"type\":\"LinearAxis\"}],\"left\":[{\"id\":\"a3c8d845-5b13-442d-876b-40a18b030cbf\",\"type\":\"LinearAxis\"}],\"plot_width\":800,\"renderers\":[{\"id\":\"40a114a5-4ceb-4c1d-b224-8fad5dfa7475\",\"type\":\"LinearAxis\"},{\"id\":\"c26d0380-a621-4e40-acc0-caa5eff1d088\",\"type\":\"Grid\"},{\"id\":\"a3c8d845-5b13-442d-876b-40a18b030cbf\",\"type\":\"LinearAxis\"},{\"id\":\"30750b4c-2bd6-4d24-aa9e-436dbb575bc4\",\"type\":\"Grid\"},{\"id\":\"3ea74f80-4137-4453-9ac9-12df0ff2a016\",\"type\":\"BoxAnnotation\"},{\"id\":\"aafd5eb1-b436-48ef-9a0b-29454b58349d\",\"type\":\"GlyphRenderer\"}],\"title\":{\"id\":\"443d3ffe-7df9-46d1-a8ea-f20dc5035d56\",\"type\":\"Title\"},\"toolbar\":{\"id\":\"ac45df8b-e32a-4820-87f1-dc5b0ad3c803\",\"type\":\"Toolbar\"},\"x_range\":{\"id\":\"6a8839d1-2054-4541-869f-75faea818af7\",\"type\":\"DataRange1d\"},\"x_scale\":{\"id\":\"fa55cadf-cfd3-41a3-861e-330f264bec8a\",\"type\":\"LinearScale\"},\"y_range\":{\"id\":\"45302704-508e-46d0-922f-0c8f9f551827\",\"type\":\"DataRange1d\"},\"y_scale\":{\"id\":\"0c69ab0d-d6ff-4f66-86e0-a4f4de2ceb60\",\"type\":\"LinearScale\"}},\"id\":\"53827250-c9d6-44ca-919a-ff31ff13a30b\",\"subtype\":\"Figure\",\"type\":\"Plot\"},{\"attributes\":{\"data_source\":{\"id\":\"b48bc328-343c-4d74-8eb9-1aa36cc9346f\",\"type\":\"ColumnDataSource\"},\"glyph\":{\"id\":\"05182e8c-6abc-4b5b-85a4-3d50242b605a\",\"type\":\"Quad\"},\"hover_glyph\":null,\"muted_glyph\":null,\"nonselection_glyph\":{\"id\":\"d7aa2c49-bdc5-459c-921f-c2f0c6628883\",\"type\":\"Quad\"},\"selection_glyph\":null,\"view\":{\"id\":\"a0b9e68e-306d-4a78-8b89-08f8f2cd4d1b\",\"type\":\"CDSView\"}},\"id\":\"aafd5eb1-b436-48ef-9a0b-29454b58349d\",\"type\":\"GlyphRenderer\"},{\"attributes\":{},\"id\":\"fa55cadf-cfd3-41a3-861e-330f264bec8a\",\"type\":\"LinearScale\"},{\"attributes\":{},\"id\":\"22c5a335-2b64-42ea-992e-c1ec590dabf7\",\"type\":\"NumeralTickFormatter\"},{\"attributes\":{},\"id\":\"8fb428b5-b6cf-49c5-b285-0d07372bb14e\",\"type\":\"HelpTool\"},{\"attributes\":{},\"id\":\"2581a842-48bd-4342-bbc7-fbc3fe69ce07\",\"type\":\"ResetTool\"},{\"attributes\":{\"callback\":null,\"data\":{\"left\":{\"__ndarray__\":\"zO0PMlR2mD9RbFQJi9myPy/dJAaBlb8/Bqd6gbsoxj923+J/tobMP/KLJb9YctE/KqhZPlah1D9hxI29U9DXP5ngwTxR/9o/0fz1u04u3j+EDJUdpq7gP58aL90kRuI/uyjJnKPd4z/XNmNcInXlP/JE/RuhDOc/DlOX2x+k6D8qYTGbnjvqP0Zvy1od0+s/Yn1lGpxq7T99i//ZGgLvP83MzMzMTPA/2tOZLIwY8T/o2maMS+TxP/bhM+wKsPI/BOkATMp78z8S8M2riUf0PyD3mgtJE/U/Lv5nawjf9T87BTXLx6r2P0kMAiuHdvc/VxPPikZC+D9lGpzqBQ75P3MhaUrF2fk/gSg2qoSl+j+PLwMKRHH7P5020GkDPfw/qz2dycII/T+4RGopgtT9P8ZLN4lBoP4/1FIE6QBs/z8=\",\"dtype\":\"float64\",\"shape\":[40]},\"right\":{\"__ndarray__\":\"UWxUCYvZsj8v3SQGgZW/PwaneoG7KMY/dt/if7aGzD/yiyW/WHLRPyqoWT5WodQ/YcSNvVPQ1z+Z4ME8Uf/aP9H89btOLt4/hAyVHaau4D+fGi/dJEbiP7soyZyj3eM/1zZjXCJ15T/yRP0boQznPw5Tl9sfpOg/KmExm5476j9Gb8taHdPrP2J9ZRqcau0/fYv/2RoC7z/NzMzMzEzwP9rTmSyMGPE/6NpmjEvk8T/24TPsCrDyPwTpAEzKe/M/EvDNq4lH9D8g95oLSRP1Py7+Z2sI3/U/OwU1y8eq9j9JDAIrh3b3P1cTz4pGQvg/ZRqc6gUO+T9zIWlKxdn5P4EoNqqEpfo/jy8DCkRx+z+dNtBpAz38P6s9ncnCCP0/uERqKYLU/T/GSzeJQaD+P9RSBOkAbP8/8axoJOAbAEA=\",\"dtype\":\"float64\",\"shape\":[40]},\"top\":[40,32,5,3,1,10,21,22,22,15,21,17,13,7,7,8,7,5,9,7,4,6,10,2,2,8,6,3,0,0,2,2,1,1,0,0,0,0,0,1]},\"selected\":{\"id\":\"c7a9119e-4525-4e1d-9cd4-d27930e65b1e\",\"type\":\"Selection\"},\"selection_policy\":{\"id\":\"01c3a312-0ca3-409f-8112-60f09092c6fe\",\"type\":\"UnionRenderers\"}},\"id\":\"b48bc328-343c-4d74-8eb9-1aa36cc9346f\",\"type\":\"ColumnDataSource\"},{\"attributes\":{},\"id\":\"0c69ab0d-d6ff-4f66-86e0-a4f4de2ceb60\",\"type\":\"LinearScale\"},{\"attributes\":{\"callback\":null},\"id\":\"45302704-508e-46d0-922f-0c8f9f551827\",\"type\":\"DataRange1d\"},{\"attributes\":{\"active_drag\":\"auto\",\"active_inspect\":\"auto\",\"active_multi\":null,\"active_scroll\":\"auto\",\"active_tap\":\"auto\",\"tools\":[{\"id\":\"ecd508d4-438b-40b0-af6a-03fd94e740fe\",\"type\":\"PanTool\"},{\"id\":\"4e7343dc-4d24-4a23-a244-1ab9f30d4565\",\"type\":\"WheelZoomTool\"},{\"id\":\"da04da93-322e-4503-8550-9ad25d77734e\",\"type\":\"BoxZoomTool\"},{\"id\":\"354566cc-2807-4e57-b2e5-5798581be6e4\",\"type\":\"SaveTool\"},{\"id\":\"2581a842-48bd-4342-bbc7-fbc3fe69ce07\",\"type\":\"ResetTool\"},{\"id\":\"8fb428b5-b6cf-49c5-b285-0d07372bb14e\",\"type\":\"HelpTool\"},{\"id\":\"3f263e2e-b994-46c0-9e83-7a335f648f14\",\"type\":\"HoverTool\"}]},\"id\":\"ac45df8b-e32a-4820-87f1-dc5b0ad3c803\",\"type\":\"Toolbar\"},{\"attributes\":{},\"id\":\"ecd508d4-438b-40b0-af6a-03fd94e740fe\",\"type\":\"PanTool\"},{\"attributes\":{},\"id\":\"a70a9405-864d-458e-92a0-3c0f587feb83\",\"type\":\"BasicTicker\"},{\"attributes\":{\"callback\":null},\"id\":\"6a8839d1-2054-4541-869f-75faea818af7\",\"type\":\"DataRange1d\"},{\"attributes\":{\"bottom\":{\"value\":0},\"fill_alpha\":{\"value\":0.7},\"fill_color\":{\"value\":\"darkseagreen\"},\"left\":{\"field\":\"left\"},\"line_alpha\":{\"value\":0.7},\"line_color\":{\"value\":\"darkseagreen\"},\"right\":{\"field\":\"right\"},\"top\":{\"field\":\"top\"}},\"id\":\"05182e8c-6abc-4b5b-85a4-3d50242b605a\",\"type\":\"Quad\"},{\"attributes\":{\"axis_label\":\"job count\",\"axis_label_standoff\":15,\"axis_label_text_font_style\":\"bold\",\"formatter\":{\"id\":\"22c5a335-2b64-42ea-992e-c1ec590dabf7\",\"type\":\"NumeralTickFormatter\"},\"plot\":{\"id\":\"53827250-c9d6-44ca-919a-ff31ff13a30b\",\"subtype\":\"Figure\",\"type\":\"Plot\"},\"ticker\":{\"id\":\"b4a2594e-5528-4fe4-8098-99ad17df195b\",\"type\":\"BasicTicker\"}},\"id\":\"a3c8d845-5b13-442d-876b-40a18b030cbf\",\"type\":\"LinearAxis\"},{\"attributes\":{\"overlay\":{\"id\":\"3ea74f80-4137-4453-9ac9-12df0ff2a016\",\"type\":\"BoxAnnotation\"}},\"id\":\"da04da93-322e-4503-8550-9ad25d77734e\",\"type\":\"BoxZoomTool\"},{\"attributes\":{\"bottom\":{\"value\":0},\"fill_alpha\":{\"value\":0.1},\"fill_color\":{\"value\":\"#1f77b4\"},\"left\":{\"field\":\"left\"},\"line_alpha\":{\"value\":0.1},\"line_color\":{\"value\":\"#1f77b4\"},\"right\":{\"field\":\"right\"},\"top\":{\"field\":\"top\"}},\"id\":\"d7aa2c49-bdc5-459c-921f-c2f0c6628883\",\"type\":\"Quad\"},{\"attributes\":{\"plot\":null,\"text\":\"DISTRIBUTION OF JOB EXECUTION WALLCLOCK TIME MULTIBAND\"},\"id\":\"443d3ffe-7df9-46d1-a8ea-f20dc5035d56\",\"type\":\"Title\"},{\"attributes\":{\"source\":{\"id\":\"b48bc328-343c-4d74-8eb9-1aa36cc9346f\",\"type\":\"ColumnDataSource\"}},\"id\":\"a0b9e68e-306d-4a78-8b89-08f8f2cd4d1b\",\"type\":\"CDSView\"},{\"attributes\":{\"plot\":{\"id\":\"53827250-c9d6-44ca-919a-ff31ff13a30b\",\"subtype\":\"Figure\",\"type\":\"Plot\"},\"ticker\":{\"id\":\"a70a9405-864d-458e-92a0-3c0f587feb83\",\"type\":\"BasicTicker\"}},\"id\":\"c26d0380-a621-4e40-acc0-caa5eff1d088\",\"type\":\"Grid\"},{\"attributes\":{},\"id\":\"b4a2594e-5528-4fe4-8098-99ad17df195b\",\"type\":\"BasicTicker\"},{\"attributes\":{\"dimension\":1,\"plot\":{\"id\":\"53827250-c9d6-44ca-919a-ff31ff13a30b\",\"subtype\":\"Figure\",\"type\":\"Plot\"},\"ticker\":{\"id\":\"b4a2594e-5528-4fe4-8098-99ad17df195b\",\"type\":\"BasicTicker\"}},\"id\":\"30750b4c-2bd6-4d24-aa9e-436dbb575bc4\",\"type\":\"Grid\"},{\"attributes\":{\"callback\":null,\"renderers\":\"auto\",\"tooltips\":[[\"jobs\",\"@top{0,000}\"],[\"low\",\"@left{0.0} hours\"],[\"high\",\"@right{0.0} hours\"]]},\"id\":\"3f263e2e-b994-46c0-9e83-7a335f648f14\",\"type\":\"HoverTool\"},{\"attributes\":{},\"id\":\"01c3a312-0ca3-409f-8112-60f09092c6fe\",\"type\":\"UnionRenderers\"},{\"attributes\":{\"bottom_units\":\"screen\",\"fill_alpha\":{\"value\":0.5},\"fill_color\":{\"value\":\"lightgrey\"},\"left_units\":\"screen\",\"level\":\"overlay\",\"line_alpha\":{\"value\":1.0},\"line_color\":{\"value\":\"black\"},\"line_dash\":[4,4],\"line_width\":{\"value\":2},\"plot\":null,\"render_mode\":\"css\",\"right_units\":\"screen\",\"top_units\":\"screen\"},\"id\":\"3ea74f80-4137-4453-9ac9-12df0ff2a016\",\"type\":\"BoxAnnotation\"},{\"attributes\":{},\"id\":\"354566cc-2807-4e57-b2e5-5798581be6e4\",\"type\":\"SaveTool\"},{\"attributes\":{},\"id\":\"4e7343dc-4d24-4a23-a244-1ab9f30d4565\",\"type\":\"WheelZoomTool\"},{\"attributes\":{},\"id\":\"bf60224e-62a3-4dbb-8b9f-70ae934522ff\",\"type\":\"BasicTickFormatter\"},{\"attributes\":{\"axis_label\":\"execution wallclock time (hours)\",\"axis_label_standoff\":15,\"axis_label_text_font_style\":\"bold\",\"formatter\":{\"id\":\"bf60224e-62a3-4dbb-8b9f-70ae934522ff\",\"type\":\"BasicTickFormatter\"},\"plot\":{\"id\":\"53827250-c9d6-44ca-919a-ff31ff13a30b\",\"subtype\":\"Figure\",\"type\":\"Plot\"},\"ticker\":{\"id\":\"a70a9405-864d-458e-92a0-3c0f587feb83\",\"type\":\"BasicTicker\"}},\"id\":\"40a114a5-4ceb-4c1d-b224-8fad5dfa7475\",\"type\":\"LinearAxis\"}],\"root_ids\":[\"53827250-c9d6-44ca-919a-ff31ff13a30b\"]},\"title\":\"Bokeh Application\",\"version\":\"0.13.0\"}};\n",
       "  var render_items = [{\"docid\":\"ee69ce96-9d42-45e4-b73c-13590ae00563\",\"roots\":{\"53827250-c9d6-44ca-919a-ff31ff13a30b\":\"1ff382ae-db6c-420b-9ad9-774094de6ebf\"}}];\n",
       "  root.Bokeh.embed.embed_items_notebook(docs_json, render_items);\n",
       "\n",
       "  }\n",
       "  if (root.Bokeh !== undefined) {\n",
       "    embed_document(root);\n",
       "  } else {\n",
       "    var attempts = 0;\n",
       "    var timer = setInterval(function(root) {\n",
       "      if (root.Bokeh !== undefined) {\n",
       "        embed_document(root);\n",
       "        clearInterval(timer);\n",
       "      }\n",
       "      attempts++;\n",
       "      if (attempts > 100) {\n",
       "        console.log(\"Bokeh: ERROR: Unable to run BokehJS code because BokehJS library is missing\")\n",
       "        clearInterval(timer);\n",
       "      }\n",
       "    }, 10, root)\n",
       "  }\n",
       "})(window);"
      ],
      "application/vnd.bokehjs_exec.v0+json": ""
     },
     "metadata": {
      "application/vnd.bokehjs_exec.v0+json": {
       "id": "53827250-c9d6-44ca-919a-ff31ff13a30b"
      }
     },
     "output_type": "display_data"
    }
   ],
   "source": [
    "fig = bkh.figure(\n",
    "    title = 'DISTRIBUTION OF JOB EXECUTION WALLCLOCK TIME MULTIBAND ON EDISON',\n",
    "    x_axis_label = 'execution wallclock time (hours)',\n",
    "    y_axis_label = 'job count'\n",
    ")\n",
    "\n",
    "\n",
    "style_figure(fig)\n",
    "color, alpha = 'darkseagreen', 0.7\n",
    "hist, edges = np.histogram(df.loc[(df['exit_status']==0)&(df['job']=='multiband'),'elapsed_time_seconds']/3600, density=False, bins=40)\n",
    "fig.quad(top=hist, bottom=0, left=edges[:-1], right=edges[1:], alpha=alpha, fill_color=color, line_color=color)\n",
    "fig.yaxis.formatter = bkhmodels.formatters.NumeralTickFormatter(format=\"0,0\")\n",
    "fig.add_tools(bkhmodels.HoverTool(\n",
    "    tooltips = [\n",
    "        ('jobs', '@top{0,000}'),\n",
    "        ('low',  '@left{0.0} hours'),\n",
    "        ('high', '@right{0.0} hours'),\n",
    "    ],\n",
    "    mode = 'mouse',\n",
    "))\n",
    "bkh.show(fig)"
   ]
  },
  {
   "cell_type": "code",
   "execution_count": 32,
   "metadata": {},
   "outputs": [
    {
     "data": {
      "text/html": [
       "\n",
       "\n",
       "\n",
       "\n",
       "\n",
       "\n",
       "  <div class=\"bk-root\" id=\"3b43d187-6243-4693-b2aa-0af7622c5f05\"></div>\n"
      ]
     },
     "metadata": {},
     "output_type": "display_data"
    },
    {
     "data": {
      "application/javascript": [
       "(function(root) {\n",
       "  function embed_document(root) {\n",
       "    \n",
       "  var docs_json = {\"7d85ea1b-098f-4696-9eb5-3f00d2803638\":{\"roots\":{\"references\":[{\"attributes\":{},\"id\":\"7e132f8d-a72a-4cdd-9edc-315ebb0c2ecd\",\"type\":\"UnionRenderers\"},{\"attributes\":{},\"id\":\"4f4490c3-679f-43fd-be65-ace9bc1316b5\",\"type\":\"BasicTicker\"},{\"attributes\":{\"active_drag\":\"auto\",\"active_inspect\":\"auto\",\"active_multi\":null,\"active_scroll\":\"auto\",\"active_tap\":\"auto\",\"tools\":[{\"id\":\"08f8c026-4182-45ca-86be-d43c83920bf8\",\"type\":\"PanTool\"},{\"id\":\"5f708179-6b17-495d-b357-9943727e5464\",\"type\":\"WheelZoomTool\"},{\"id\":\"45d14ddf-e285-47dc-8454-02576368adcc\",\"type\":\"BoxZoomTool\"},{\"id\":\"3ab13087-decc-44f7-8eb0-acfaf266eaa1\",\"type\":\"SaveTool\"},{\"id\":\"4b649b13-6bc6-489d-95c0-53e40aba1e71\",\"type\":\"ResetTool\"},{\"id\":\"61b772b7-d0e1-48b0-b07a-8bfb18cdd772\",\"type\":\"HelpTool\"},{\"id\":\"9a82ede8-42da-4361-8c0e-b03060fef5d6\",\"type\":\"HoverTool\"}]},\"id\":\"281bba1a-fa07-44aa-829b-c867728cef7e\",\"type\":\"Toolbar\"},{\"attributes\":{\"source\":{\"id\":\"f7dad196-4cb4-4841-b34d-1e5645ce12ee\",\"type\":\"ColumnDataSource\"}},\"id\":\"2ca58a1a-a58b-422d-a5ad-9c6ccee9fc93\",\"type\":\"CDSView\"},{\"attributes\":{\"axis_label\":\"job count\",\"axis_label_standoff\":15,\"axis_label_text_font_style\":\"bold\",\"formatter\":{\"id\":\"8bd9e3db-2bb6-4d33-a009-5b52a624b5a5\",\"type\":\"NumeralTickFormatter\"},\"plot\":{\"id\":\"89ad8bf6-aad5-4e3e-b3ad-9aeb318463e7\",\"subtype\":\"Figure\",\"type\":\"Plot\"},\"ticker\":{\"id\":\"822ecb6a-1dda-44b6-9870-30680a49f313\",\"type\":\"BasicTicker\"}},\"id\":\"08b9842f-9b19-43b0-b981-8169a97ff487\",\"type\":\"LinearAxis\"},{\"attributes\":{\"data_source\":{\"id\":\"f7dad196-4cb4-4841-b34d-1e5645ce12ee\",\"type\":\"ColumnDataSource\"},\"glyph\":{\"id\":\"38a2017c-3634-46c0-9790-6d6392bc56a9\",\"type\":\"Quad\"},\"hover_glyph\":null,\"muted_glyph\":null,\"nonselection_glyph\":{\"id\":\"c3324433-88dc-410d-af99-127342218fb4\",\"type\":\"Quad\"},\"selection_glyph\":null,\"view\":{\"id\":\"2ca58a1a-a58b-422d-a5ad-9c6ccee9fc93\",\"type\":\"CDSView\"}},\"id\":\"e4b3bab9-8861-41ab-96f8-bfe317b502a9\",\"type\":\"GlyphRenderer\"},{\"attributes\":{},\"id\":\"9f022cdd-aa6f-446e-aab8-21099519ccd1\",\"type\":\"UnionRenderers\"},{\"attributes\":{\"plot\":null,\"text\":\"DISTRIBUTION OF MEMORY UTILIZATION OF COADD AND MULTIBAND\"},\"id\":\"eb2070c9-297f-41e0-8104-85c361117d3d\",\"type\":\"Title\"},{\"attributes\":{\"bottom\":{\"value\":0},\"fill_alpha\":{\"value\":0.1},\"fill_color\":{\"value\":\"#1f77b4\"},\"left\":{\"field\":\"left\"},\"line_alpha\":{\"value\":0.1},\"line_color\":{\"value\":\"#1f77b4\"},\"right\":{\"field\":\"right\"},\"top\":{\"field\":\"top\"}},\"id\":\"050382bf-2147-4850-af2f-a571c7d04326\",\"type\":\"Quad\"},{\"attributes\":{},\"id\":\"8c5943be-f7c9-463e-913f-16b8b4859f11\",\"type\":\"BasicTickFormatter\"},{\"attributes\":{},\"id\":\"ac362b5b-e5d4-4b8f-bb36-b53961560385\",\"type\":\"Selection\"},{\"attributes\":{\"data_source\":{\"id\":\"7a8d53f0-3af2-400f-8e2c-eab7b163f3ec\",\"type\":\"ColumnDataSource\"},\"glyph\":{\"id\":\"a3c42d95-0f0a-4109-b486-87794a1cc8b9\",\"type\":\"Quad\"},\"hover_glyph\":null,\"muted_glyph\":null,\"nonselection_glyph\":{\"id\":\"b6f2ed51-baf6-4e9d-b775-a147b08d5c41\",\"type\":\"Quad\"},\"selection_glyph\":null,\"view\":{\"id\":\"f7c8c6eb-66e5-4c3b-8100-06b57db2ed73\",\"type\":\"CDSView\"}},\"id\":\"3f478c2a-fa5a-4d98-8e86-e7120a9d4c80\",\"type\":\"GlyphRenderer\"},{\"attributes\":{},\"id\":\"132dfd19-e794-4189-ae9a-d9ab1b5988fa\",\"type\":\"Selection\"},{\"attributes\":{\"bottom\":{\"value\":0},\"fill_alpha\":{\"value\":0.1},\"fill_color\":{\"value\":\"#1f77b4\"},\"left\":{\"field\":\"left\"},\"line_alpha\":{\"value\":0.1},\"line_color\":{\"value\":\"#1f77b4\"},\"right\":{\"field\":\"right\"},\"top\":{\"field\":\"top\"}},\"id\":\"c3324433-88dc-410d-af99-127342218fb4\",\"type\":\"Quad\"},{\"attributes\":{},\"id\":\"08f8c026-4182-45ca-86be-d43c83920bf8\",\"type\":\"PanTool\"},{\"attributes\":{},\"id\":\"0179edcb-00a7-4be1-bd60-70b1360031fb\",\"type\":\"Selection\"},{\"attributes\":{},\"id\":\"877687e5-a86b-4e27-8741-e233824c0d79\",\"type\":\"Selection\"},{\"attributes\":{\"source\":{\"id\":\"7a8d53f0-3af2-400f-8e2c-eab7b163f3ec\",\"type\":\"ColumnDataSource\"}},\"id\":\"f7c8c6eb-66e5-4c3b-8100-06b57db2ed73\",\"type\":\"CDSView\"},{\"attributes\":{},\"id\":\"8bd9e3db-2bb6-4d33-a009-5b52a624b5a5\",\"type\":\"NumeralTickFormatter\"},{\"attributes\":{\"callback\":null},\"id\":\"d2e3c411-9060-4b1b-b26b-8eacb11d659a\",\"type\":\"DataRange1d\"},{\"attributes\":{\"bottom\":{\"value\":0},\"fill_alpha\":{\"value\":0.5},\"fill_color\":{\"value\":\"mediumseagreen\"},\"left\":{\"field\":\"left\"},\"line_alpha\":{\"value\":0.5},\"line_color\":{\"value\":\"mediumseagreen\"},\"right\":{\"field\":\"right\"},\"top\":{\"field\":\"top\"}},\"id\":\"38a2017c-3634-46c0-9790-6d6392bc56a9\",\"type\":\"Quad\"},{\"attributes\":{\"axis_label\":\"gigabyte\",\"axis_label_standoff\":15,\"axis_label_text_font_style\":\"bold\",\"formatter\":{\"id\":\"8c5943be-f7c9-463e-913f-16b8b4859f11\",\"type\":\"BasicTickFormatter\"},\"plot\":{\"id\":\"89ad8bf6-aad5-4e3e-b3ad-9aeb318463e7\",\"subtype\":\"Figure\",\"type\":\"Plot\"},\"ticker\":{\"id\":\"4f4490c3-679f-43fd-be65-ace9bc1316b5\",\"type\":\"BasicTicker\"}},\"id\":\"1c5efcb1-e88b-4429-9c12-cd5285983670\",\"type\":\"LinearAxis\"},{\"attributes\":{\"source\":{\"id\":\"a17bf62b-1dd3-4936-88b7-3843872a2db8\",\"type\":\"ColumnDataSource\"}},\"id\":\"f6c7c84c-bd68-40d6-b49a-2607ff81ca54\",\"type\":\"CDSView\"},{\"attributes\":{\"overlay\":{\"id\":\"6590b5fb-3012-4d96-b4c9-2ecf1b61767e\",\"type\":\"BoxAnnotation\"}},\"id\":\"45d14ddf-e285-47dc-8454-02576368adcc\",\"type\":\"BoxZoomTool\"},{\"attributes\":{\"label\":{\"value\":\"u\"},\"renderers\":[{\"id\":\"03ff9640-2e3d-4766-ba63-d63fa52e1f5b\",\"type\":\"GlyphRenderer\"}]},\"id\":\"d8134233-5522-48a4-a6a0-8d6d59b84c4f\",\"type\":\"LegendItem\"},{\"attributes\":{\"source\":{\"id\":\"dcb9530d-18d8-4935-9a2f-cca573d77f73\",\"type\":\"ColumnDataSource\"}},\"id\":\"1fe9e868-5837-4bca-aee0-807ceac23a39\",\"type\":\"CDSView\"},{\"attributes\":{\"data_source\":{\"id\":\"a17bf62b-1dd3-4936-88b7-3843872a2db8\",\"type\":\"ColumnDataSource\"},\"glyph\":{\"id\":\"bed3051a-96b2-4dbb-8f38-a4cdabbbc10a\",\"type\":\"Quad\"},\"hover_glyph\":null,\"muted_glyph\":null,\"nonselection_glyph\":{\"id\":\"5382ff93-80a0-453d-8309-5325d1b48ce1\",\"type\":\"Quad\"},\"selection_glyph\":null,\"view\":{\"id\":\"f6c7c84c-bd68-40d6-b49a-2607ff81ca54\",\"type\":\"CDSView\"}},\"id\":\"8594bf6f-2ab1-490a-8449-c711b0dcd2f7\",\"type\":\"GlyphRenderer\"},{\"attributes\":{},\"id\":\"61b772b7-d0e1-48b0-b07a-8bfb18cdd772\",\"type\":\"HelpTool\"},{\"attributes\":{\"label\":{\"value\":\"i\"},\"renderers\":[{\"id\":\"1190b705-7ca0-477f-8554-58226ed609e5\",\"type\":\"GlyphRenderer\"}]},\"id\":\"fdd10bab-3085-41bb-90d6-692c66561ce7\",\"type\":\"LegendItem\"},{\"attributes\":{\"bottom\":{\"value\":0},\"fill_alpha\":{\"value\":0.1},\"fill_color\":{\"value\":\"#1f77b4\"},\"left\":{\"field\":\"left\"},\"line_alpha\":{\"value\":0.1},\"line_color\":{\"value\":\"#1f77b4\"},\"right\":{\"field\":\"right\"},\"top\":{\"field\":\"top\"}},\"id\":\"b6f2ed51-baf6-4e9d-b775-a147b08d5c41\",\"type\":\"Quad\"},{\"attributes\":{\"source\":{\"id\":\"d93edd48-a7ff-4a96-bac1-1a7ef307fefd\",\"type\":\"ColumnDataSource\"}},\"id\":\"345c1a37-f33e-4af9-abc0-e0228a9faf7c\",\"type\":\"CDSView\"},{\"attributes\":{\"bottom\":{\"value\":0},\"fill_alpha\":{\"value\":0.5},\"fill_color\":{\"value\":\"crimson\"},\"left\":{\"field\":\"left\"},\"line_alpha\":{\"value\":0.5},\"line_color\":{\"value\":\"crimson\"},\"right\":{\"field\":\"right\"},\"top\":{\"field\":\"top\"}},\"id\":\"d0f1e1fb-e80e-4045-8776-c306a16d875f\",\"type\":\"Quad\"},{\"attributes\":{\"bottom\":{\"value\":0},\"fill_alpha\":{\"value\":0.5},\"fill_color\":{\"value\":\"darkmagenta\"},\"left\":{\"field\":\"left\"},\"line_alpha\":{\"value\":0.5},\"line_color\":{\"value\":\"darkmagenta\"},\"right\":{\"field\":\"right\"},\"top\":{\"field\":\"top\"}},\"id\":\"a3c42d95-0f0a-4109-b486-87794a1cc8b9\",\"type\":\"Quad\"},{\"attributes\":{\"bottom\":{\"value\":0},\"fill_alpha\":{\"value\":0.1},\"fill_color\":{\"value\":\"#1f77b4\"},\"left\":{\"field\":\"left\"},\"line_alpha\":{\"value\":0.1},\"line_color\":{\"value\":\"#1f77b4\"},\"right\":{\"field\":\"right\"},\"top\":{\"field\":\"top\"}},\"id\":\"9ea38795-e4dd-4808-83ec-fc1d90656232\",\"type\":\"Quad\"},{\"attributes\":{},\"id\":\"822ecb6a-1dda-44b6-9870-30680a49f313\",\"type\":\"BasicTicker\"},{\"attributes\":{},\"id\":\"27268cc8-eaf2-473c-98ae-ec99a35d17bc\",\"type\":\"Selection\"},{\"attributes\":{\"callback\":null,\"data\":{\"left\":{\"__ndarray__\":\"+tFwytx8DED2WztREjINQPPlBdhH5w1A72/QXn2cDkDs+ZrlslEPQPTBMjZ0AxBA8gaY+Q5eEEDwS/28qbgQQO+QYoBEExFA7dXHQ99tEUDrGi0HesgRQOlfksoUIxJA6KT3ja99EkDm6VxRStgSQOQuwhTlMhNA4nMn2H+NE0DguIybGugTQN798V61QhRA3UJXIlCdFEDbh7zl6vcUQA==\",\"dtype\":\"float64\",\"shape\":[20]},\"right\":{\"__ndarray__\":\"9ls7URIyDUDz5QXYR+cNQO9v0F59nA5A7Pma5bJRD0D0wTI2dAMQQPIGmPkOXhBA8Ev9vKm4EEDvkGKARBMRQO3Vx0PfbRFA6xotB3rIEUDpX5LKFCMSQOik942vfRJA5ulcUUrYEkDkLsIU5TITQOJzJ9h/jRNA4LiMmxroE0De/fFetUIUQN1CVyJQnRRA24e85er3FEDZzCGphVIVQA==\",\"dtype\":\"float64\",\"shape\":[20]},\"top\":[5,2,3,0,0,2,0,0,2,1,1,0,1,0,0,0,0,0,0,2]},\"selected\":{\"id\":\"27268cc8-eaf2-473c-98ae-ec99a35d17bc\",\"type\":\"Selection\"},\"selection_policy\":{\"id\":\"e1881ec4-0da8-4679-904b-04557f934b62\",\"type\":\"UnionRenderers\"}},\"id\":\"a17bf62b-1dd3-4936-88b7-3843872a2db8\",\"type\":\"ColumnDataSource\"},{\"attributes\":{\"callback\":null,\"data\":{\"left\":{\"__ndarray__\":\"IxXGFoKcC0AdBvNXyFwMQBf3H5kOHQ1AEOhM2lTdDUAK2Xkbm50OQATKplzhXQ9Af93pzhMPEED8VYDvNm8QQHnOFhBazxBA9katMH0vEUBzv0NRoI8RQPA32nHD7xFAbLBwkuZPEkDqKAezCbASQGahndMsEBNA4xk09E9wE0BgksoUc9ATQN0KYTWWMBRAWoP3VbmQFEDX+4123PAUQA==\",\"dtype\":\"float64\",\"shape\":[20]},\"right\":{\"__ndarray__\":\"HQbzV8hcDEAX9x+ZDh0NQBDoTNpU3Q1ACtl5G5udDkAEyqZc4V0PQH/d6c4TDxBA/FWA7zZvEEB5zhYQWs8QQPZGrTB9LxFAc79DUaCPEUDwN9pxw+8RQGywcJLmTxJA6igHswmwEkBmoZ3TLBATQOMZNPRPcBNAYJLKFHPQE0DdCmE1ljAUQFqD91W5kBRA1/uNdtzwFEBUdCSX/1AVQA==\",\"dtype\":\"float64\",\"shape\":[20]},\"top\":[1,1,2,4,1,1,1,1,1,2,0,0,1,0,0,0,0,1,0,2]},\"selected\":{\"id\":\"ac362b5b-e5d4-4b8f-bb36-b53961560385\",\"type\":\"Selection\"},\"selection_policy\":{\"id\":\"e3745e99-8af1-4dac-b63a-d8b29c4be78d\",\"type\":\"UnionRenderers\"}},\"id\":\"c7d7e78e-b4d8-4ffe-887c-c53ff46e94bd\",\"type\":\"ColumnDataSource\"},{\"attributes\":{},\"id\":\"5f708179-6b17-495d-b357-9943727e5464\",\"type\":\"WheelZoomTool\"},{\"attributes\":{},\"id\":\"ebeba104-cacd-4e53-95c3-17aca87177fb\",\"type\":\"UnionRenderers\"},{\"attributes\":{},\"id\":\"e3745e99-8af1-4dac-b63a-d8b29c4be78d\",\"type\":\"UnionRenderers\"},{\"attributes\":{\"label\":{\"value\":\"y\"},\"renderers\":[{\"id\":\"3f478c2a-fa5a-4d98-8e86-e7120a9d4c80\",\"type\":\"GlyphRenderer\"}]},\"id\":\"aa825ebc-1bbb-400d-8160-923d252ed03b\",\"type\":\"LegendItem\"},{\"attributes\":{},\"id\":\"4b649b13-6bc6-489d-95c0-53e40aba1e71\",\"type\":\"ResetTool\"},{\"attributes\":{},\"id\":\"4170b24a-11d8-4954-b1da-c439092a3839\",\"type\":\"UnionRenderers\"},{\"attributes\":{\"background_fill_alpha\":{\"value\":0.8},\"background_fill_color\":{\"value\":\"whitesmoke\"},\"below\":[{\"id\":\"1c5efcb1-e88b-4429-9c12-cd5285983670\",\"type\":\"LinearAxis\"}],\"left\":[{\"id\":\"08b9842f-9b19-43b0-b981-8169a97ff487\",\"type\":\"LinearAxis\"}],\"plot_width\":800,\"renderers\":[{\"id\":\"1c5efcb1-e88b-4429-9c12-cd5285983670\",\"type\":\"LinearAxis\"},{\"id\":\"95c1d7c9-7756-459d-a0ef-298294200cb5\",\"type\":\"Grid\"},{\"id\":\"08b9842f-9b19-43b0-b981-8169a97ff487\",\"type\":\"LinearAxis\"},{\"id\":\"a66592e9-ac73-4152-80d5-477bd47a4e91\",\"type\":\"Grid\"},{\"id\":\"6590b5fb-3012-4d96-b4c9-2ecf1b61767e\",\"type\":\"BoxAnnotation\"},{\"id\":\"2a0d9102-1e10-4a90-add2-657f031e29f3\",\"type\":\"Legend\"},{\"id\":\"97bb2f43-2e69-47a2-a8f1-11321c3ab24f\",\"type\":\"GlyphRenderer\"},{\"id\":\"3f478c2a-fa5a-4d98-8e86-e7120a9d4c80\",\"type\":\"GlyphRenderer\"},{\"id\":\"e4b3bab9-8861-41ab-96f8-bfe317b502a9\",\"type\":\"GlyphRenderer\"},{\"id\":\"8594bf6f-2ab1-490a-8449-c711b0dcd2f7\",\"type\":\"GlyphRenderer\"},{\"id\":\"1190b705-7ca0-477f-8554-58226ed609e5\",\"type\":\"GlyphRenderer\"},{\"id\":\"03ff9640-2e3d-4766-ba63-d63fa52e1f5b\",\"type\":\"GlyphRenderer\"}],\"title\":{\"id\":\"eb2070c9-297f-41e0-8104-85c361117d3d\",\"type\":\"Title\"},\"toolbar\":{\"id\":\"281bba1a-fa07-44aa-829b-c867728cef7e\",\"type\":\"Toolbar\"},\"x_range\":{\"id\":\"d2e3c411-9060-4b1b-b26b-8eacb11d659a\",\"type\":\"DataRange1d\"},\"x_scale\":{\"id\":\"42d1e1b2-db26-4295-8639-0f81dc665b29\",\"type\":\"LinearScale\"},\"y_range\":{\"id\":\"20135288-ed42-4f83-aa4f-2391719fb3c0\",\"type\":\"DataRange1d\"},\"y_scale\":{\"id\":\"53d21702-c2d7-4d49-9b29-f06587e421e5\",\"type\":\"LinearScale\"}},\"id\":\"89ad8bf6-aad5-4e3e-b3ad-9aeb318463e7\",\"subtype\":\"Figure\",\"type\":\"Plot\"},{\"attributes\":{\"callback\":null},\"id\":\"20135288-ed42-4f83-aa4f-2391719fb3c0\",\"type\":\"DataRange1d\"},{\"attributes\":{\"bottom\":{\"value\":0},\"fill_alpha\":{\"value\":0.5},\"fill_color\":{\"value\":\"orange\"},\"left\":{\"field\":\"left\"},\"line_alpha\":{\"value\":0.5},\"line_color\":{\"value\":\"orange\"},\"right\":{\"field\":\"right\"},\"top\":{\"field\":\"top\"}},\"id\":\"bed3051a-96b2-4dbb-8f38-a4cdabbbc10a\",\"type\":\"Quad\"},{\"attributes\":{},\"id\":\"3ab13087-decc-44f7-8eb0-acfaf266eaa1\",\"type\":\"SaveTool\"},{\"attributes\":{\"callback\":null,\"renderers\":\"auto\",\"tooltips\":[[\"jobs\",\"@top{0,000}\"],[\"low\",\"@left{0.0} GB\"],[\"high\",\"@right{0.0} GB\"]]},\"id\":\"9a82ede8-42da-4361-8c0e-b03060fef5d6\",\"type\":\"HoverTool\"},{\"attributes\":{},\"id\":\"53d21702-c2d7-4d49-9b29-f06587e421e5\",\"type\":\"LinearScale\"},{\"attributes\":{\"data_source\":{\"id\":\"d93edd48-a7ff-4a96-bac1-1a7ef307fefd\",\"type\":\"ColumnDataSource\"},\"glyph\":{\"id\":\"0a97fcd9-91b8-4191-b1bd-6fbe2c530293\",\"type\":\"Quad\"},\"hover_glyph\":null,\"muted_glyph\":null,\"nonselection_glyph\":{\"id\":\"491322c8-2f5d-48e2-baa8-91a5ed38d96e\",\"type\":\"Quad\"},\"selection_glyph\":null,\"view\":{\"id\":\"345c1a37-f33e-4af9-abc0-e0228a9faf7c\",\"type\":\"CDSView\"}},\"id\":\"97bb2f43-2e69-47a2-a8f1-11321c3ab24f\",\"type\":\"GlyphRenderer\"},{\"attributes\":{\"label\":{\"value\":\"r\"},\"renderers\":[{\"id\":\"e4b3bab9-8861-41ab-96f8-bfe317b502a9\",\"type\":\"GlyphRenderer\"}]},\"id\":\"435c4981-29b6-4771-92ff-6b3e2da761ff\",\"type\":\"LegendItem\"},{\"attributes\":{\"click_policy\":\"hide\",\"items\":[{\"id\":\"2826e070-753e-49f0-a771-f1c60cd92df9\",\"type\":\"LegendItem\"},{\"id\":\"aa825ebc-1bbb-400d-8160-923d252ed03b\",\"type\":\"LegendItem\"},{\"id\":\"435c4981-29b6-4771-92ff-6b3e2da761ff\",\"type\":\"LegendItem\"},{\"id\":\"2233f1b7-02d5-4a72-80dd-4548682c97b9\",\"type\":\"LegendItem\"},{\"id\":\"fdd10bab-3085-41bb-90d6-692c66561ce7\",\"type\":\"LegendItem\"},{\"id\":\"d8134233-5522-48a4-a6a0-8d6d59b84c4f\",\"type\":\"LegendItem\"}],\"plot\":{\"id\":\"89ad8bf6-aad5-4e3e-b3ad-9aeb318463e7\",\"subtype\":\"Figure\",\"type\":\"Plot\"}},\"id\":\"2a0d9102-1e10-4a90-add2-657f031e29f3\",\"type\":\"Legend\"},{\"attributes\":{\"bottom\":{\"value\":0},\"fill_alpha\":{\"value\":0.5},\"fill_color\":{\"value\":\"dodgerblue\"},\"left\":{\"field\":\"left\"},\"line_alpha\":{\"value\":0.5},\"line_color\":{\"value\":\"dodgerblue\"},\"right\":{\"field\":\"right\"},\"top\":{\"field\":\"top\"}},\"id\":\"0a97fcd9-91b8-4191-b1bd-6fbe2c530293\",\"type\":\"Quad\"},{\"attributes\":{\"plot\":{\"id\":\"89ad8bf6-aad5-4e3e-b3ad-9aeb318463e7\",\"subtype\":\"Figure\",\"type\":\"Plot\"},\"ticker\":{\"id\":\"4f4490c3-679f-43fd-be65-ace9bc1316b5\",\"type\":\"BasicTicker\"}},\"id\":\"95c1d7c9-7756-459d-a0ef-298294200cb5\",\"type\":\"Grid\"},{\"attributes\":{\"bottom\":{\"value\":0},\"fill_alpha\":{\"value\":0.1},\"fill_color\":{\"value\":\"#1f77b4\"},\"left\":{\"field\":\"left\"},\"line_alpha\":{\"value\":0.1},\"line_color\":{\"value\":\"#1f77b4\"},\"right\":{\"field\":\"right\"},\"top\":{\"field\":\"top\"}},\"id\":\"5382ff93-80a0-453d-8309-5325d1b48ce1\",\"type\":\"Quad\"},{\"attributes\":{\"data_source\":{\"id\":\"dcb9530d-18d8-4935-9a2f-cca573d77f73\",\"type\":\"ColumnDataSource\"},\"glyph\":{\"id\":\"b8489b77-2329-4dd3-822a-2a9f332b7758\",\"type\":\"Quad\"},\"hover_glyph\":null,\"muted_glyph\":null,\"nonselection_glyph\":{\"id\":\"9ea38795-e4dd-4808-83ec-fc1d90656232\",\"type\":\"Quad\"},\"selection_glyph\":null,\"view\":{\"id\":\"1fe9e868-5837-4bca-aee0-807ceac23a39\",\"type\":\"CDSView\"}},\"id\":\"03ff9640-2e3d-4766-ba63-d63fa52e1f5b\",\"type\":\"GlyphRenderer\"},{\"attributes\":{},\"id\":\"42d1e1b2-db26-4295-8639-0f81dc665b29\",\"type\":\"LinearScale\"},{\"attributes\":{\"label\":{\"value\":\"g^i^r^u^y^z\"},\"renderers\":[{\"id\":\"97bb2f43-2e69-47a2-a8f1-11321c3ab24f\",\"type\":\"GlyphRenderer\"}]},\"id\":\"2826e070-753e-49f0-a771-f1c60cd92df9\",\"type\":\"LegendItem\"},{\"attributes\":{\"callback\":null,\"data\":{\"left\":{\"__ndarray__\":\"+dnIdVNKC0AEuXoE7SQMQA6YLJOG/wxAGXfeISDaDUAkVpCwubQOQC81Qj9Tjw9AHQr6ZvY0EECi+VIuQ6IQQCjpq/WPDxFArdgEvdx8EUAyyF2EKeoRQLi3tkt2VxJAPacPE8PEEkDClmjaDzITQEiGwaFcnxNAzXUaaakMFEBSZXMw9nkUQNhUzPdC5xRAXUQlv49UFUDiM36G3MEVQA==\",\"dtype\":\"float64\",\"shape\":[20]},\"right\":{\"__ndarray__\":\"BLl6BO0kDEAOmCyThv8MQBl33iEg2g1AJFaQsLm0DkAvNUI/U48PQB0K+mb2NBBAovlSLkOiEEAo6av1jw8RQK3YBL3cfBFAMshdhCnqEUC4t7ZLdlcSQD2nDxPDxBJAwpZo2g8yE0BIhsGhXJ8TQM11GmmpDBRAUmVzMPZ5FEDYVMz3QucUQF1EJb+PVBVA4jN+htzBFUBoI9dNKS8WQA==\",\"dtype\":\"float64\",\"shape\":[20]},\"top\":[2,4,0,0,0,1,3,1,0,0,0,0,2,1,0,1,1,0,0,2]},\"selected\":{\"id\":\"877687e5-a86b-4e27-8741-e233824c0d79\",\"type\":\"Selection\"},\"selection_policy\":{\"id\":\"4170b24a-11d8-4954-b1da-c439092a3839\",\"type\":\"UnionRenderers\"}},\"id\":\"dcb9530d-18d8-4935-9a2f-cca573d77f73\",\"type\":\"ColumnDataSource\"},{\"attributes\":{\"callback\":null,\"data\":{\"left\":{\"__ndarray__\":\"lZuopbkVDUBcRTXby8wNQCPvwRDegw5A6phORvA6D0CxQtt7AvIPQDz2s1iKVBBAIEt6cxOwEEADoECOnAsRQOf0BqklZxFAyknNw67CEUCunpPeNx4SQJHzWfnAeRJAdUggFErVEkBYneYu0zATQDzyrElcjBNAIEdzZOXnE0ADnDl/bkMUQObw/5n3nhRAykXGtID6FECumozPCVYVQA==\",\"dtype\":\"float64\",\"shape\":[20]},\"right\":{\"__ndarray__\":\"XEU128vMDUAj78EQ3oMOQOqYTkbwOg9AsULbewLyD0A89rNYilQQQCBLenMTsBBAA6BAjpwLEUDn9AapJWcRQMpJzcOuwhFArp6T3jceEkCR81n5wHkSQHVIIBRK1RJAWJ3mLtMwE0A88qxJXIwTQCBHc2Tl5xNAA5w5f25DFEDm8P+Z954UQMpFxrSA+hRArpqMzwlWFUCR71LqkrEVQA==\",\"dtype\":\"float64\",\"shape\":[20]},\"top\":[3,2,5,2,0,1,0,0,2,0,1,0,0,0,0,0,0,1,2,1]},\"selected\":{\"id\":\"51c79449-4f7c-4c84-ba24-c68d0dc31173\",\"type\":\"Selection\"},\"selection_policy\":{\"id\":\"9f022cdd-aa6f-446e-aab8-21099519ccd1\",\"type\":\"UnionRenderers\"}},\"id\":\"f7dad196-4cb4-4841-b34d-1e5645ce12ee\",\"type\":\"ColumnDataSource\"},{\"attributes\":{},\"id\":\"51c79449-4f7c-4c84-ba24-c68d0dc31173\",\"type\":\"Selection\"},{\"attributes\":{\"dimension\":1,\"plot\":{\"id\":\"89ad8bf6-aad5-4e3e-b3ad-9aeb318463e7\",\"subtype\":\"Figure\",\"type\":\"Plot\"},\"ticker\":{\"id\":\"822ecb6a-1dda-44b6-9870-30680a49f313\",\"type\":\"BasicTicker\"}},\"id\":\"a66592e9-ac73-4152-80d5-477bd47a4e91\",\"type\":\"Grid\"},{\"attributes\":{\"callback\":null,\"data\":{\"left\":{\"__ndarray__\":\"Kcql8Quv4D9ap4BqcmfjP4qEW+PYH+Y/u2E2XD/Y6D/sPhHVpZDrPx0c7E0MSe4/pnxjY7mA8D8/69Cf7NzxP9hZPtwfOfM/cMirGFOV9D8INxlVhvH1P6ClhpG5Tfc/OBT0zeyp+D/SgmEKIAb6P2rxzkZTYvs/AmA8g4a+/D+azqm/uRr+PzI9F/zsdv8/5lVCHJBpAEAyDXm6qRcBQA==\",\"dtype\":\"float64\",\"shape\":[20]},\"right\":{\"__ndarray__\":\"WqeAanJn4z+KhFvj2B/mP7thNlw/2Og/7D4R1aWQ6z8dHOxNDEnuP6Z8Y2O5gPA/P+vQn+zc8T/YWT7cHznzP3DIqxhTlfQ/CDcZVYbx9T+gpYaRuU33PzgU9M3sqfg/0oJhCiAG+j9q8c5GU2L7PwJgPIOGvvw/ms6pv7ka/j8yPRf87Hb/P+ZVQhyQaQBAMg15uqkXAUB+xK9Yw8UBQA==\",\"dtype\":\"float64\",\"shape\":[20]},\"top\":[53,0,0,0,1,2,7,85,4,9,31,4,10,34,7,17,3,4,19,16]},\"selected\":{\"id\":\"132dfd19-e794-4189-ae9a-d9ab1b5988fa\",\"type\":\"Selection\"},\"selection_policy\":{\"id\":\"7e132f8d-a72a-4cdd-9edc-315ebb0c2ecd\",\"type\":\"UnionRenderers\"}},\"id\":\"d93edd48-a7ff-4a96-bac1-1a7ef307fefd\",\"type\":\"ColumnDataSource\"},{\"attributes\":{},\"id\":\"e1881ec4-0da8-4679-904b-04557f934b62\",\"type\":\"UnionRenderers\"},{\"attributes\":{\"data_source\":{\"id\":\"c7d7e78e-b4d8-4ffe-887c-c53ff46e94bd\",\"type\":\"ColumnDataSource\"},\"glyph\":{\"id\":\"d0f1e1fb-e80e-4045-8776-c306a16d875f\",\"type\":\"Quad\"},\"hover_glyph\":null,\"muted_glyph\":null,\"nonselection_glyph\":{\"id\":\"050382bf-2147-4850-af2f-a571c7d04326\",\"type\":\"Quad\"},\"selection_glyph\":null,\"view\":{\"id\":\"5f021203-99da-47c3-ac0f-996addb54aee\",\"type\":\"CDSView\"}},\"id\":\"1190b705-7ca0-477f-8554-58226ed609e5\",\"type\":\"GlyphRenderer\"},{\"attributes\":{\"bottom\":{\"value\":0},\"fill_alpha\":{\"value\":0.1},\"fill_color\":{\"value\":\"#1f77b4\"},\"left\":{\"field\":\"left\"},\"line_alpha\":{\"value\":0.1},\"line_color\":{\"value\":\"#1f77b4\"},\"right\":{\"field\":\"right\"},\"top\":{\"field\":\"top\"}},\"id\":\"491322c8-2f5d-48e2-baa8-91a5ed38d96e\",\"type\":\"Quad\"},{\"attributes\":{\"source\":{\"id\":\"c7d7e78e-b4d8-4ffe-887c-c53ff46e94bd\",\"type\":\"ColumnDataSource\"}},\"id\":\"5f021203-99da-47c3-ac0f-996addb54aee\",\"type\":\"CDSView\"},{\"attributes\":{\"callback\":null,\"data\":{\"left\":{\"__ndarray__\":\"32sIjss4DUBIKMeu/jkOQLHkhc8xOw9AjVAieDIeEEDBroEIzJ4QQPYM4ZhlHxFAKmtAKf+fEUBeyZ+5mCASQJMn/0kyoRJAyIVe2sshE0D8471qZaITQDBCHfv+IhRAZaB8i5ijFECZ/tsbMiQVQM5cO6zLpBVAAruaPGUlFkA2GfrM/qUWQGt3WV2YJhdAoNW47TGnF0DUMxh+yycYQA==\",\"dtype\":\"float64\",\"shape\":[20]},\"right\":{\"__ndarray__\":\"SCjHrv45DkCx5IXPMTsPQI1QIngyHhBAwa6BCMyeEED2DOGYZR8RQCprQCn/nxFAXsmfuZggEkCTJ/9JMqESQMiFXtrLIRNA/OO9amWiE0AwQh37/iIUQGWgfIuYoxRAmf7bGzIkFUDOXDusy6QVQAK7mjxlJRZANhn6zP6lFkBrd1ldmCYXQKDVuO0xpxdA1DMYfssnGEAIkncOZagYQA==\",\"dtype\":\"float64\",\"shape\":[20]},\"top\":[4,3,2,1,0,3,0,0,1,0,0,0,2,1,1,1,0,0,0,1]},\"selected\":{\"id\":\"0179edcb-00a7-4be1-bd60-70b1360031fb\",\"type\":\"Selection\"},\"selection_policy\":{\"id\":\"ebeba104-cacd-4e53-95c3-17aca87177fb\",\"type\":\"UnionRenderers\"}},\"id\":\"7a8d53f0-3af2-400f-8e2c-eab7b163f3ec\",\"type\":\"ColumnDataSource\"},{\"attributes\":{\"bottom_units\":\"screen\",\"fill_alpha\":{\"value\":0.5},\"fill_color\":{\"value\":\"lightgrey\"},\"left_units\":\"screen\",\"level\":\"overlay\",\"line_alpha\":{\"value\":1.0},\"line_color\":{\"value\":\"black\"},\"line_dash\":[4,4],\"line_width\":{\"value\":2},\"plot\":null,\"render_mode\":\"css\",\"right_units\":\"screen\",\"top_units\":\"screen\"},\"id\":\"6590b5fb-3012-4d96-b4c9-2ecf1b61767e\",\"type\":\"BoxAnnotation\"},{\"attributes\":{\"label\":{\"value\":\"z\"},\"renderers\":[{\"id\":\"8594bf6f-2ab1-490a-8449-c711b0dcd2f7\",\"type\":\"GlyphRenderer\"}]},\"id\":\"2233f1b7-02d5-4a72-80dd-4548682c97b9\",\"type\":\"LegendItem\"},{\"attributes\":{\"bottom\":{\"value\":0},\"fill_alpha\":{\"value\":0.5},\"fill_color\":{\"value\":\"sienna\"},\"left\":{\"field\":\"left\"},\"line_alpha\":{\"value\":0.5},\"line_color\":{\"value\":\"sienna\"},\"right\":{\"field\":\"right\"},\"top\":{\"field\":\"top\"}},\"id\":\"b8489b77-2329-4dd3-822a-2a9f332b7758\",\"type\":\"Quad\"}],\"root_ids\":[\"89ad8bf6-aad5-4e3e-b3ad-9aeb318463e7\"]},\"title\":\"Bokeh Application\",\"version\":\"0.13.0\"}};\n",
       "  var render_items = [{\"docid\":\"7d85ea1b-098f-4696-9eb5-3f00d2803638\",\"roots\":{\"89ad8bf6-aad5-4e3e-b3ad-9aeb318463e7\":\"3b43d187-6243-4693-b2aa-0af7622c5f05\"}}];\n",
       "  root.Bokeh.embed.embed_items_notebook(docs_json, render_items);\n",
       "\n",
       "  }\n",
       "  if (root.Bokeh !== undefined) {\n",
       "    embed_document(root);\n",
       "  } else {\n",
       "    var attempts = 0;\n",
       "    var timer = setInterval(function(root) {\n",
       "      if (root.Bokeh !== undefined) {\n",
       "        embed_document(root);\n",
       "        clearInterval(timer);\n",
       "      }\n",
       "      attempts++;\n",
       "      if (attempts > 100) {\n",
       "        console.log(\"Bokeh: ERROR: Unable to run BokehJS code because BokehJS library is missing\")\n",
       "        clearInterval(timer);\n",
       "      }\n",
       "    }, 10, root)\n",
       "  }\n",
       "})(window);"
      ],
      "application/vnd.bokehjs_exec.v0+json": ""
     },
     "metadata": {
      "application/vnd.bokehjs_exec.v0+json": {
       "id": "89ad8bf6-aad5-4e3e-b3ad-9aeb318463e7"
      }
     },
     "output_type": "display_data"
    },
    {
     "data": {
      "text/markdown": [
       "*The figure above shows the distribution of RAM the jobs (in gigabyte). Click on the legend to hide / show information.*"
      ],
      "text/plain": [
       "<IPython.core.display.Markdown object>"
      ]
     },
     "execution_count": 32,
     "metadata": {},
     "output_type": "execute_result"
    }
   ],
   "source": [
    "successful_jobs = df.loc[(df['exit_status'] == 0)&(df['job']!='calexp')]\n",
    "\n",
    "# Create the figure\n",
    "fig = bkh.figure(\n",
    "    title = 'DISTRIBUTION OF MEMORY UTILIZATION OF COADD AND MULTIBAND',\n",
    "    x_axis_label = 'gigabyte',\n",
    "    y_axis_label = 'job count'\n",
    ")\n",
    "style_figure(fig)\n",
    "\n",
    "# Build a histogram per band\n",
    "colors = ('dodgerblue', 'darkmagenta', 'mediumseagreen', 'orange', 'crimson', 'sienna')\n",
    "bands = successful_jobs.groupby(['band']).size().sort_values(ascending=False)\n",
    "for b, color in zip(bands.index, colors):\n",
    "    # Select the jobs in this band which wallclock time was higher than the 5th percentile,\n",
    "    # to exclude jobs which may have terminated early\n",
    "    job_set = successful_jobs.loc[successful_jobs['band'] == b]\n",
    "    wallclock_threshold = np.percentile(job_set['elapsed_time_seconds'], [5])[0]\n",
    "    memory = job_set.loc[job_set['elapsed_time_seconds'] >= wallclock_threshold, 'max_mem_gbytes']\n",
    "    hist, edges = np.histogram(memory, density=False, bins=20)\n",
    "    fig.quad(top=hist, bottom=0, left=edges[:-1], right=edges[1:], alpha= 0.5, fill_color=color, line_color=color, legend=b)\n",
    "\n",
    "# Finalize the figure\n",
    "fig.legend.click_policy = 'hide'\n",
    "fig.yaxis.formatter = bkhmodels.formatters.NumeralTickFormatter(format=\"0,0\")\n",
    "fig.add_tools(bkhmodels.HoverTool(\n",
    "    tooltips = [\n",
    "        ('jobs', '@top{0,000}'),\n",
    "        ('low',  '@left{0.0} GB'),\n",
    "        ('high', '@right{0.0} GB'),\n",
    "    ],\n",
    "    mode = 'mouse',\n",
    "))\n",
    "bkh.show(fig)\n",
    "print_md(f\"\"\"*The figure above shows the distribution of RAM the jobs (in gigabyte). Click on the legend to hide / show information.*\"\"\")"
   ]
  },
  {
   "cell_type": "code",
   "execution_count": null,
   "metadata": {},
   "outputs": [],
   "source": [
    "def pandas_df_to_markdown_table(df):\n",
    "    from IPython.display import Markdown, display\n",
    "    fmt = ['---' for i in range(len(df.columns))]\n",
    "    df_fmt = pd.DataFrame([fmt], columns=df.columns)\n",
    "    df_formatted = pd.concat([df_fmt, df])\n",
    "    display(Markdown(df_formatted.to_csv(sep=\"|\", index=False)))\n",
    "\n",
    "pandas_df_to_markdown_table(df)"
   ]
  },
  {
   "cell_type": "code",
   "execution_count": null,
   "metadata": {},
   "outputs": [],
   "source": []
  },
  {
   "cell_type": "code",
   "execution_count": null,
   "metadata": {},
   "outputs": [],
   "source": []
  }
 ],
 "metadata": {
  "kernelspec": {
   "display_name": "Python [default]",
   "language": "python",
   "name": "python3"
  },
  "language_info": {
   "codemirror_mode": {
    "name": "ipython",
    "version": 3
   },
   "file_extension": ".py",
   "mimetype": "text/x-python",
   "name": "python",
   "nbconvert_exporter": "python",
   "pygments_lexer": "ipython3",
   "version": "3.6.8"
  }
 },
 "nbformat": 4,
 "nbformat_minor": 2
}
